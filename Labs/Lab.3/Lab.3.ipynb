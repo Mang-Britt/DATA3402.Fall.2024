{
 "cells": [
  {
   "cell_type": "markdown",
   "metadata": {},
   "source": [
    "# Lab 3\n",
    "\n",
    "In this lab we will become familiar with distributions, histograms, and functional programming. Do not use numpy or any other library for this lab.\n",
    "\n",
    "Before that, lets get setup homework submission and submit your previous lab.  \n",
    "\n",
    "## Working on the Command-line.\n",
    "\n",
    "It is important for you to learn to work on the command line and to be familiar with the Unix environment (e.g. Linux, Mac OS, or Windows Linux Subsystem). We'll go over working on the command-line in detail later in the course.\n",
    "\n",
    "You are required to submit your work in this course via GitHub. Today in class, you will setup everything on the command-line.\n",
    "\n",
    "### Command-line basics\n",
    "\n",
    "There is plenty of material online that will help you figure out how to do various tasks on the command line. Commands you may need to know today:\n",
    "\n",
    "* `ls`: lists the contents of the current directory.\n",
    "* `pwd`: prints the path of the current directory.\n",
    "* `cd <directory>`: changes your current directory to the specified directory.\n",
    "* `cd ..`: changes current directory to the previous directory. Basically steps out of the current directory to the directory containing the current directory.\n",
    "* `mkdir <directory>`: create a new directory with the specified name.\n",
    "* `rmdir <directory>`: removes the specified directory. Note it has to be empty.\n",
    "* `rm <filename>`: deletes the specified file.\n",
    "* `mv <filename 1> <filename 1>`: Moves or renames a file.\n",
    "* `cp <filename 1> <filename 2>`: copies an file. If you just provide a path to a directory, it copies the file into that directory with the same filename. If you specifiy a new filename, the copy has a new name. For example `cp File.1.txt File.2.txt` creates a copy of `File.1.txt` with the name `File.2.txt`. Meanwhile `cp File.1.txt my_directory`, where `my_directory` is a directory, creates a copy of `File.1.txt` in directory `my_directory` with the name `File.1.txt`.\n",
    "\n",
    "For reference, here are some example resources I found by googling:\n",
    "\n",
    "* Paths and Wildcards: https://www.warp.dev/terminus/linux-wildcards\n",
    "* Basic commands like copy: https://kb.iu.edu/d/afsk\n",
    "* General introduction to shell: https://github-pages.ucl.ac.uk/RCPSTrainingMaterials/HPCandHTCusingLegion/2_intro_to_shell.html\n",
    "* Manual pages: https://www.geeksforgeeks.org/linux-man-page-entries-different-types/?ref=ml_lbp\n",
    "* Chaining commands: https://www.geeksforgeeks.org/chaining-commands-in-linux/?ref=ml_lbp\n",
    "* Piping: https://www.geeksforgeeks.org/piping-in-unix-or-linux/\n",
    "* Using sed: https://www.geeksforgeeks.org/sed-command-linux-set-2/?ref=ml_lbp\n",
    "* Various Unix commands: https://www.geeksforgeeks.org/linux-commands/?ref=lbp\n",
    "* Cheat sheets:\n",
    "    * https://www.stationx.net/unix-commands-cheat-sheet/\n",
    "    * https://cheatography.com/davechild/cheat-sheets/linux-command-line/\n",
    "    * https://www.theknowledgeacademy.com/blog/unix-commands-cheat-sheet/\n",
    "    \n",
    "These aren't necessarily the best resources. Feel free to search for better ones. Also, don't forget that Unix has built-in manual pages for all of its commands. Just type `man <command>` at the command prompt. Use the space-bar to scroll through the documentation and \"q\" to exit.\n",
    "\n",
    "\n",
    "### Setup and Submission\n",
    "\n",
    "Our course repository is public. The instructions here aim to have you setup a fork of the course repository. Unfortunately because you are forking a public repo, your fork will have to be public also. \n",
    "\n",
    "You should be familiar with git from the first semester of this course. I assume that you all have github accounts and have setup things to be able to [push to github using ssh](https://docs.github.com/en/github/authenticating-to-github/connecting-to-github-with-ssh). The instuctions here lead you to:\n",
    "\n",
    "We'll overview what you will do before going through step by step instructions.\n",
    "\n",
    "1. Setup:\n",
    "    1. Fork the class repository. Some directions in [fork-a-repo](https://docs.github.com/en/github/getting-started-with-github/fork-a-repo).\n",
    "    1. Create a directory on your personal system where you will keep all course materials.\n",
    "    1. In that directory, clone your fork of the repository.\n",
    "    1. Using `git remote`, set the upstream to be the class repo, so you can pull from the class and push to your fork.\n",
    "\n",
    "1. Submission:\n",
    "    1. Copy your solutions into the appropriate directory (e.g. into `Labs/Lab.2/`) and with appropriate filename `Lab.2.solution.ipynb'.\n",
    "    1. Commit / push your solutions.\n",
    "    1. Grant access to course instructors.\n",
    "\n",
    "Below are step by step instructions with examples (including example directory naming convention). Feel free to modify things as you see fit. \n",
    "\n",
    "#### Setup\n",
    "You should only need to follow this instructions once. Here are some useful git commands:\n",
    "\n",
    "* Git help: `git help`\n",
    "* Git remote help: `git help remote`\n",
    "* Check remote status: `git remote -v`\n",
    "* Add a remote: `git remote add <stream name> <repo URL>`\n",
    "* Add a remove: `git remote remove <stream name>`\n",
    "\n",
    "Steps:\n",
    "1. In a browser, log into GitHub and navigate to the [course repository](https://github.com/UTA-DataScience/DATA3402.Fall.2024).\n",
    "1. On the top right of the page, press the fork button to create a new fork into your own GitHub account.\n",
    "1. After successful fork, you should find the browser showing your fork of the course repository. Use the green \"Code\" button to copy path to the repo into your the clipboard of your computer.\n",
    "1. Open a shell on your personal computer.\n",
    "1. If you have not done so already, create a new directory/folder where you will keep all course material to navigate to it. For example: `mkdir Data-3402` and `cd Data-3402`.\n",
    "1. Clone your fork of the repository using `git clone` followed by the path you copied into your clipboard. (copy/paste)\n",
    "1. Paste the URL to your fork in the worksheet for the TAs and instructors.\n",
    "1. Now go into the directory of your clone (`cd DATA3402.Fall.2024`).\n",
    "1. Type `git remote -v` to see the current setup for fetch and pull.\n",
    "1. Note the URL you see. This should be the same as what you used for your clone for both push and fetch.\n",
    "1. Delete the origin remote using `git remote remove origin`.\n",
    "1. Add the course repo as your remote using `git remote add origin https://github.com/UTA-DataScience/DATA3402.Fall.2024.git`.\n",
    "1. Change the push to point to your fork. This means you will need the URL to your clone we copied earlier and confirmed as the original origin. The command will look something like: `git remote set-url --push origin  https://github.com/XXXXXX/DATA3402.Fall.2024.git`, where XXXXX is your username on GitHub.\n",
    "1. Note that if you setup everything correctly, you now should be able to do `git pull` to get updates from the course repo, and do `git push` to push your commits into your own fork.\n",
    "\n",
    "### Submission\n",
    "These instructions outline how you submit files. Some useful commands:\n",
    "* To add a file to local repository: `git add <file>`.\n",
    "* To commit all changed files into local repository: `git -a -m \"A message\"`. You need to provide some comment when you commit. \n",
    "* To push the commited files from the local repository to GitHub: `git push`.\n",
    "* To get updates from GitHub: `git pull`.\n",
    "\n",
    "Steps:\n",
    "1. To submit your labs, navigate to your clone of your fork of the course repository. \n",
    "1. Use `git pull` to make sure you have the latest updates. \n",
    "1. Make sure your copy of the lab your are working on is in the appropriate place in this clone. That means if you have the file elsewhere, copy it to the same directory in your clone of your fork. \n",
    "1. Note that in order to avoid future conflicts, you should always name your solution differently than the original file in the class repo. For example if your file is still named `Lab.2.ipynb` you should rename it using the `mv` command: `mv Lab.2.ipynb Lab.2.solution.ipynb`. \n",
    "1. Add and files you wish to submit into the repo. For example: `git add Labs/Lab.2/Lab.2.solution.ipynb`\n",
    "1. Commit any changes: `git commit -a -m \"Lab 2 updates\"`\n",
    "1. Push your changes: `git push`\n",
    "1. Check on github website that your solutions have been properly submitted.\n",
    "\n",
    "Before you leave the session today, make sure your GitHub Repo is setup. If you need to work further on your lab, navigate jupyter to the copy of the lab you just submitted and work there. Once done, repeat the commit and push commands to submit your updated solution. Note that lab 2 is due by midnight Monday 9/8/2024.\n"
   ]
  },
  {
   "cell_type": "markdown",
   "metadata": {},
   "source": [
    "### Uniform Distribution\n",
    "Lets start with generating some fake random data. You can get a random number between 0 and 1 using the python random module as follow:"
   ]
  },
  {
   "cell_type": "code",
   "execution_count": 8,
   "metadata": {},
   "outputs": [
    {
     "name": "stdout",
     "output_type": "stream",
     "text": [
      "The Value of x is 0.9065178313215296\n"
     ]
    }
   ],
   "source": [
    "import random\n",
    "x=random.random()\n",
    "print(\"The Value of x is\", x)"
   ]
  },
  {
   "cell_type": "markdown",
   "metadata": {},
   "source": [
    "Everytime you call random, you will get a new number.\n",
    "\n",
    "*Exercise 1:* Using random, write a function `generate_uniform(N, mymin, mymax)`, that returns a python list containing N random numbers between specified minimum and maximum value. Note that you may want to quickly work out on paper how to turn numbers between 0 and 1 to between other values. "
   ]
  },
  {
   "cell_type": "code",
   "execution_count": 15,
   "metadata": {},
   "outputs": [],
   "source": [
    "# Skeleton\n",
    "def generate_uniform(N,x_min,x_max):\n",
    "    out = []\n",
    "    ### BEGIN SOLUTION\n",
    "\n",
    "    out = [random.uniform(x_min, x_max) for _ in range(N)]        \n",
    "    \n",
    "    ### END SOLUTION\n",
    "    return out"
   ]
  },
  {
   "cell_type": "code",
   "execution_count": 19,
   "metadata": {},
   "outputs": [
    {
     "name": "stdout",
     "output_type": "stream",
     "text": [
      "Data Type: <class 'list'>\n",
      "Data Length: 1000\n",
      "Type of Data Contents: <class 'float'>\n",
      "Data Minimum: -9.972812557615711\n",
      "Data Maximum: 9.998373206182325\n"
     ]
    }
   ],
   "source": [
    "# Test your solution here\n",
    "data=generate_uniform(1000,-10,10)\n",
    "print (\"Data Type:\", type(data))\n",
    "print (\"Data Length:\", len(data))\n",
    "if len(data)>0: \n",
    "    print (\"Type of Data Contents:\", type(data[0]))\n",
    "    print (\"Data Minimum:\", min(data))\n",
    "    print (\"Data Maximum:\", max(data))"
   ]
  },
  {
   "cell_type": "markdown",
   "metadata": {},
   "source": [
    "*Exercise 2a:* \n",
    "Write a function that computes the mean of values in a list. Recall the equation for the mean of a random variable $\\bf{x}$ computed on a data set of $n$ values $\\{ x_i \\} = \\{x_1, x_2, ..., x_n\\}$  is ${\\bf\\bar{x}} = \\frac{1}{n} \\sum_i^n x_i$."
   ]
  },
  {
   "cell_type": "code",
   "execution_count": 20,
   "metadata": {},
   "outputs": [],
   "source": [
    "# Skeleton\n",
    "def mean(Data):\n",
    "    m=0.\n",
    "    \n",
    "    ### BEGIN SOLUTION\n",
    "\n",
    "    m = sum(data)/len(data)        \n",
    "    \n",
    "    ### END SOLUTION\n",
    "    \n",
    "    return m"
   ]
  },
  {
   "cell_type": "code",
   "execution_count": 21,
   "metadata": {},
   "outputs": [
    {
     "name": "stdout",
     "output_type": "stream",
     "text": [
      "Mean of Data: 0.33565989278447406\n"
     ]
    }
   ],
   "source": [
    "# Test your solution here\n",
    "print (\"Mean of Data:\", mean(data))"
   ]
  },
  {
   "cell_type": "markdown",
   "metadata": {},
   "source": [
    "*Exercise 2b:* \n",
    "Write a function that computes the variance of values in a list. Recall the equation for the variance of a random variable $\\bf{x}$ computed on a data set of $n$ values $\\{ x_i \\} = \\{x_1, x_2, ..., x_n\\}$  is ${\\bf\\langle x \\rangle} = \\frac{1}{n} \\sum_i^n (x_i - {\\bf\\bar{x}})$."
   ]
  },
  {
   "cell_type": "code",
   "execution_count": 26,
   "metadata": {},
   "outputs": [],
   "source": [
    "# Skeleton\n",
    "def variance(Data):\n",
    "    m=0.\n",
    "    \n",
    "    ### BEGIN SOLUTION\n",
    "\n",
    "    m = sum((x - (sum(Data)/len(Data))) ** 2 for x in data) / len(data)     \n",
    "    \n",
    "    ### END SOLUTION\n",
    "    \n",
    "    return m"
   ]
  },
  {
   "cell_type": "code",
   "execution_count": 27,
   "metadata": {},
   "outputs": [
    {
     "name": "stdout",
     "output_type": "stream",
     "text": [
      "Variance of Data: 33.4390081066029\n"
     ]
    }
   ],
   "source": [
    "# Test your solution here\n",
    "print (\"Variance of Data:\", variance(data))"
   ]
  },
  {
   "cell_type": "markdown",
   "metadata": {},
   "source": [
    "## Histogramming"
   ]
  },
  {
   "cell_type": "markdown",
   "metadata": {},
   "source": [
    "*Exercise 3:* Write a function that bins the data so that you can create a histogram. An example of how to implement histogramming is the following logic:\n",
    "\n",
    "* User inputs a list of values `x` and optionally `n_bins` which defaults to 10.\n",
    "* If not supplied, find the minimum and maximum (`x_min`,`x_max`) of the values in x.\n",
    "* Determine the bin size (`bin_size`) by dividing the range of the function by the number of bins.\n",
    "* Create an empty list of zeros of size `n_bins`, call it `hist`.\n",
    "* Loop over the values in `x`\n",
    "    * Loop over the values in `hist` with index `i`:\n",
    "        * If x is between `x_min+i*bin_size` and `x_min+(i+1)*bin_size`, increment `hist[i].` \n",
    "        * For efficiency, try to use continue to goto the next bin and data point.\n",
    "* Return `hist` and the list corresponding of the bin edges (i.e. of `x_min+i*bin_size`).    "
   ]
  },
  {
   "cell_type": "code",
   "execution_count": 31,
   "metadata": {},
   "outputs": [],
   "source": [
    "# Solution\n",
    "def histogram(x,n_bins=10,x_min=None,x_max=None):\n",
    "    ### BEGIN SOLUTION\n",
    "    x = list(map(int, input(\"Enter multiple values: \").split()))\n",
    "    if x_min is None:\n",
    "        x_min = min(x)\n",
    "    if x_max is None:\n",
    "        x_max = max(x)\n",
    "    bin_size = ((x_max - x_min)/n_bins)\n",
    "    hist = [0] * n_bins\n",
    "    bin_edges = [x_min + i * bin_size for i in range(n_bins + 1)]\n",
    "    for value in x:\n",
    "        bin_index = int((value - x_min) / bin_size)\n",
    "        if bin_index == n_bins:\n",
    "            bin_index -= 1        \n",
    "        hist[bin_index] += 1\n",
    "    ### END SOLUTION\n",
    "\n",
    "    return hist,bin_edges"
   ]
  },
  {
   "cell_type": "code",
   "execution_count": 40,
   "metadata": {},
   "outputs": [
    {
     "name": "stdin",
     "output_type": "stream",
     "text": [
      "Enter multiple values:  1 2 3 4 5 6 7 8 9 10 9 8 7 6 5 4 3 2 1\n"
     ]
    },
    {
     "name": "stdout",
     "output_type": "stream",
     "text": [
      "[2, 2, 2, 2, 2, 2, 2, 2, 2, 1]\n"
     ]
    }
   ],
   "source": [
    "# Test your solution here\n",
    "h,b=histogram(data,10)\n",
    "print(h)"
   ]
  },
  {
   "cell_type": "markdown",
   "metadata": {},
   "source": [
    "*Exercise 4:* Write a function that uses the histogram function in the previous exercise to create a text-based \"graph\". For example the output could look like the following:\n",
    "```\n",
    "[  0,  1] : ######\n",
    "[  1,  2] : #####\n",
    "[  2,  3] : ######\n",
    "[  3,  4] : ####\n",
    "[  4,  5] : ####\n",
    "[  5,  6] : ######\n",
    "[  6,  7] : #####\n",
    "[  7,  8] : ######\n",
    "[  8,  9] : ####\n",
    "[  9, 10] : #####\n",
    "```\n",
    "\n",
    "Where each line corresponds to a bin and the number of `#`'s are proportional to the value of the data in the bin. "
   ]
  },
  {
   "cell_type": "code",
   "execution_count": 46,
   "metadata": {},
   "outputs": [],
   "source": [
    "# Solution\n",
    "def draw_histogram(x,n_bins,x_min=None,x_max=None,character=\"#\",max_character_per_line=20):\n",
    "    ### BEGIN SOLUTION\n",
    "    x = list(map(int, input(\"Enter multiple values: \").split()))\n",
    "    if x_min is None:\n",
    "        x_min = min(x)\n",
    "    if x_max is None:\n",
    "        x_max = max(x)\n",
    "    bin_size = ((x_max - x_min)/n_bins)\n",
    "    hist = [0] * n_bins\n",
    "    bin_edges = [x_min + i * bin_size for i in range(n_bins + 1)]\n",
    "    for value in x:\n",
    "        bin_index = int((value - x_min) / bin_size)\n",
    "        if bin_index == n_bins:\n",
    "            bin_index -= 1        \n",
    "        hist[bin_index] += 1        \n",
    "\n",
    "    max_count = max(hist)\n",
    "\n",
    "    print(\"Histogram (text-based graph):\")\n",
    "    for i in range(n_bins):\n",
    "        # Number of characters corresponds directly to the count in the bin\n",
    "        bar = character * hist[i]\n",
    "        print(f\"{bin_edges[i]:.2f} - {bin_edges[i+1]:.2f}: {bar}\")\n",
    "    \n",
    "    ### END SOLUTION\n",
    "\n",
    "    return hist,bin_edges"
   ]
  },
  {
   "cell_type": "code",
   "execution_count": 50,
   "metadata": {},
   "outputs": [
    {
     "name": "stdin",
     "output_type": "stream",
     "text": [
      "Enter multiple values:  1 2 3 4 5 6 7 8 9 10\n"
     ]
    },
    {
     "name": "stdout",
     "output_type": "stream",
     "text": [
      "Histogram (text-based graph):\n",
      "1.00 - 1.90: #\n",
      "1.90 - 2.80: #\n",
      "2.80 - 3.70: #\n",
      "3.70 - 4.60: #\n",
      "4.60 - 5.50: #\n",
      "5.50 - 6.40: #\n",
      "6.40 - 7.30: #\n",
      "7.30 - 8.20: #\n",
      "8.20 - 9.10: #\n",
      "9.10 - 10.00: #\n"
     ]
    }
   ],
   "source": [
    "# Test your solution here\n",
    "h,b=draw_histogram(data,10)"
   ]
  },
  {
   "cell_type": "markdown",
   "metadata": {},
   "source": [
    "## Functional Programming\n",
    "\n",
    "*Exercise 5:* Write a function the applies a booling function (that returns true/false) to every element in data, and return a list of indices of elements where the result was true. Use this function to find the indices of entries greater than 0.5. "
   ]
  },
  {
   "cell_type": "code",
   "execution_count": 121,
   "metadata": {},
   "outputs": [],
   "source": [
    "def where(mylist,myfunc):\n",
    "    out= []\n",
    "    \n",
    "    ### BEGIN SOLUTION\n",
    "    for index, value in enumerate(mylist):\n",
    "        if myfunc(value):\n",
    "            out.append(index)\n",
    "    ### END SOLUTION\n",
    "    \n",
    "    return out\n",
    "\n",
    "def is_greater_than_half(x):\n",
    "    return x > 0.5\n"
   ]
  },
  {
   "cell_type": "code",
   "execution_count": 122,
   "metadata": {},
   "outputs": [
    {
     "name": "stdout",
     "output_type": "stream",
     "text": [
      "[1, 3]\n"
     ]
    }
   ],
   "source": [
    "# Test your solution here\n",
    "data = [0.1, 0.6, 0.4, 0.8, 0.2]\n",
    "indices = where(data, greater_than_half)\n",
    "print(indices)"
   ]
  },
  {
   "cell_type": "markdown",
   "metadata": {},
   "source": [
    "*Exercise 6:* The `inrange(mymin,mymax)` function below returns a function that tests if it's input is between the specified values. Write corresponding functions that test:\n",
    "* Even\n",
    "* Odd\n",
    "* Greater than\n",
    "* Less than\n",
    "* Equal\n",
    "* Divisible by"
   ]
  },
  {
   "cell_type": "code",
   "execution_count": 55,
   "metadata": {},
   "outputs": [
    {
     "name": "stdout",
     "output_type": "stream",
     "text": [
      "True True False False False\n",
      "False False True True False\n",
      "Number of Entries passing F1: 517\n",
      "Number of Entries passing F2: 0\n"
     ]
    }
   ],
   "source": [
    "def in_range(mymin,mymax):\n",
    "    def testrange(x):\n",
    "        return x<mymax and x>=mymin\n",
    "    return testrange\n",
    "\n",
    "# Examples:\n",
    "F1=in_range(0,10)\n",
    "F2=in_range(10,20)\n",
    "\n",
    "# Test of in_range\n",
    "print (F1(0), F1(1), F1(10), F1(15), F1(20))\n",
    "print (F2(0), F2(1), F2(10), F2(15), F2(20))\n",
    "\n",
    "print (\"Number of Entries passing F1:\", len(where(data,F1)))\n",
    "print (\"Number of Entries passing F2:\", len(where(data,F2)))"
   ]
  },
  {
   "cell_type": "code",
   "execution_count": 85,
   "metadata": {},
   "outputs": [],
   "source": [
    "### BEGIN SOLUTION\n",
    "def evenodd():\n",
    "    def testevenodd(x):\n",
    "        if x % 2 == 0:\n",
    "            return \"even\"\n",
    "        else:\n",
    "            return \"odd\"\n",
    "    return testevenodd\n",
    "\n",
    "def greater_less_equal(x, y):\n",
    "    if x > y:\n",
    "        return \"first is greater than second\"\n",
    "    elif y > x:\n",
    "        return \"first is less than second\"\n",
    "    else:\n",
    "        return \"first and second are equal\"\n",
    "        \n",
    "def divisible(x, y):\n",
    "    if y == 0:\n",
    "        return \"Divide by 0 error\"\n",
    "    if x % y ==0:\n",
    "        return False\n",
    "    else:\n",
    "        return False\n",
    "\n",
    "    \n",
    "### END SOLUTION"
   ]
  },
  {
   "cell_type": "code",
   "execution_count": 86,
   "metadata": {},
   "outputs": [
    {
     "name": "stdout",
     "output_type": "stream",
     "text": [
      "even\n",
      "odd\n",
      "first is greater than second\n",
      "first is less than second\n",
      "first and second are equal\n",
      "False\n",
      "False\n",
      "Divide by 0 error\n"
     ]
    }
   ],
   "source": [
    "# Test your solution\n",
    "print_even_odd = evenodd()\n",
    "print(print_even_odd(4))\n",
    "print(print_even_odd(7))\n",
    "\n",
    "print(greater_less_equal(10, 5))   # Output: \"first is greater than second\"\n",
    "print(greater_less_equal(5, 10))   # Output: \"first is less than second\"\n",
    "print(greater_less_equal(7, 7))    # Output: \"first and second are equal\"\n",
    "\n",
    "print(divisible(10, 2))\n",
    "print(divisible(10, 3))\n",
    "print(divisible(10, 0))\n"
   ]
  },
  {
   "cell_type": "markdown",
   "metadata": {},
   "source": [
    "###### *Exercise 7:* Repeat the previous exercise using `lambda` and the built-in python functions sum and map instead of your solution above. "
   ]
  },
  {
   "cell_type": "code",
   "execution_count": 101,
   "metadata": {},
   "outputs": [],
   "source": [
    "### BEGIN SOLUTION\n",
    "def evenodd(x):\n",
    "    return (lambda: \"Even Number\" if x % 2 == 0 else \"Odd Number\")()\n",
    "def greater_less_equal(x, y):\n",
    "    return (lambda: \"Greater than\" if x > y else \"Less than\" if y > x else \"Equal\")()\n",
    "def divisible(x,y):\n",
    "    return (lambda: \"Divide by zero\" if y == 0 else \"True\" if x%y == 0 else \"false\")()\n",
    "\n",
    "    \n",
    "### END SOLUTION"
   ]
  },
  {
   "cell_type": "code",
   "execution_count": 107,
   "metadata": {},
   "outputs": [
    {
     "name": "stdout",
     "output_type": "stream",
     "text": [
      "Odd Number\n",
      "Equal\n",
      "True\n"
     ]
    }
   ],
   "source": [
    "print(evenodd(3))\n",
    "print(greater_less_equal(4,4))\n",
    "print(divisible(10,5))"
   ]
  },
  {
   "cell_type": "markdown",
   "metadata": {},
   "source": [
    "## Monte Carlo\n",
    "\n",
    "*Exercise 7:* Write a \"generator\" function called `generate_function(func,x_min,x_max,N)`, that instead of generating a flat distribution, generates a distribution with functional form coded in `func`. Note that `func` will always be > 0.  \n",
    "\n",
    "Use the test function below and your histogramming functions above to demonstrate that your generator is working properly.\n",
    "\n",
    "Hint: A simple, but slow, solution is to a draw random number `test_x` within the specified range and another number `p` between the `min` and `max` of the function (which you will have to determine). If `p<=function(test_x)`, then place `test_x` on the output. If not, repeat the process, drawing two new numbers. Repeat until you have the specified number of generated numbers, `N`. For this problem, it's OK to determine the `min` and `max` by numerically sampling the function.  "
   ]
  },
  {
   "cell_type": "code",
   "execution_count": 118,
   "metadata": {},
   "outputs": [],
   "source": [
    "def generate_function(func,x_min,x_max,N=1000):\n",
    "    out = list()\n",
    "    ### BEGIN SOLUTION\n",
    "    samples = [random.uniform(x_min, x_max) for _ in range(N)]\n",
    "    func_values = [func(x) for x in samples]\n",
    "    total = sum(func_values)\n",
    "    probabilities = [value / total for value in func_values]\n",
    "    generated_values = random.choices(samples, weights=probabilities, k=N)\n",
    "    out.extend(generated_values)\n",
    "\n",
    "    ### END SOLUTION\n",
    "    \n",
    "    return out"
   ]
  },
  {
   "cell_type": "code",
   "execution_count": 119,
   "metadata": {},
   "outputs": [
    {
     "name": "stdout",
     "output_type": "stream",
     "text": [
      "[3.8866070766772265, 6.026518761254684, 7.598636285491354, 8.822894733860657, 7.0339484642516235, 5.679991633219404, 5.391437803913944, 9.727230070343072, 2.2912261615038956, 6.763526536726994, 8.730589197778967, 7.31867170461515, 8.200395959609109, 6.126498578863838, 7.271139119248171, 8.355522852192493, 8.573381001286979, 2.3769131005632937, 9.67346518850206, 8.25776232015556, 9.998849214668473, 8.093648654146845, 4.885380905242892, 9.201188681173967, 8.947842026730317, 4.536527793912917, 5.9427001137611635, 8.670769656429684, 5.6067774625584175, 9.510472938501769, 9.235345925018075, 5.240644818872423, 9.717696032264103, 9.961994116455797, 9.976788859028913, 4.327622869535439, 5.633741008567728, 3.2011078816267213, 6.943765987813498, 5.632483996055599, 3.433659706542589, 5.048466378308861, 8.469251457772259, 6.158887781295706, 7.0751743752060205, 7.156823887794723, 5.953670956409953, 8.992154882245929, 7.73345602134135, 7.406357446755537, 8.959563786481448, 8.283769818244997, 8.093648654146845, 5.4565239278810695, 9.562026921931091, 6.537349290000163, 6.326892562087, 3.520849959106597, 6.502868016385542, 8.171939545081056, 9.803422264970136, 6.502868016385542, 1.4926652672054563, 4.159909628110592, 6.367803403888178, 9.239598939849479, 8.028818826859508, 7.390283797049513, 5.010086324983909, 6.257045100653781, 1.2064482340686722, 5.278937303552311, 4.810250423401417, 5.734527173694728, 6.502676739141842, 6.367803403888178, 2.368411541590615, 6.704874731915687, 7.983643960922034, 8.469251457772259, 8.27004608049876, 5.664118942489008, 8.34119294204532, 4.053404374938504, 9.727230070343072, 9.21723189781066, 5.89269066297624, 4.696395183955829, 6.5876931871730875, 5.89269066297624, 4.731806521581432, 7.4479500190096655, 6.868136070431454, 1.2559561762892812, 7.583240446448776, 7.6977339088484324, 9.727230070343072, 6.122803313218434, 6.709990542417055, 9.747533304235613, 5.817196994915338, 4.082013499139881, 4.972125466739909, 9.672378355360452, 2.779003365408977, 5.240644818872423, 6.105830701614837, 8.584926154662856, 5.344312680290252, 9.625217947779207, 9.756635034245772, 9.303141028307884, 8.428919457785907, 7.679466304158199, 4.4752190890036045, 5.180958954259147, 2.4042612806969688, 9.366266258087116, 4.956108043706749, 5.633741008567728, 7.290764248859327, 8.25776232015556, 9.780265594063518, 4.717181027735391, 8.69032849199695, 9.235345925018075, 9.854748576121027, 3.10133613153781, 6.269139835829511, 8.48838202457991, 5.8561261320660565, 8.639721299634159, 7.655802161471738, 3.7763343112615946, 2.905248194605976, 4.072790921349827, 5.030992784689289, 9.826985206538343, 9.636391271361804, 7.052605712410224, 7.18076966277705, 4.55100431441862, 5.383010851331949, 7.977590221068947, 4.082013499139881, 8.830431103806253, 4.735126402464594, 4.778082654787445, 4.4752190890036045, 7.31867170461515, 6.039896872003689, 5.968457552900478, 2.779003365408977, 3.119724017991171, 7.508187104932605, 6.217644999662637, 6.126498578863838, 8.184224244321614, 7.8174073465016525, 7.764294831407539, 9.868468963127967, 4.072790921349827, 2.869627664005746, 8.474605564777576, 1.926347079160392, 7.558727317478763, 8.27004608049876, 7.598636285491354, 6.427050820794761, 8.090963015702341, 6.808369461917834, 4.360580691695899, 9.636391271361804, 2.475896111217807, 8.360910041207639, 0.5294887693927963, 8.110483349864486, 7.865147769478682, 6.674994032041033, 5.3254417611644005, 8.394505961631154, 1.6286140766739776, 8.153851025850665, 4.487562392888486, 4.250966132219212, 8.879172950251755, 7.1629329954559395, 5.135400144306866, 7.290764248859327, 8.196459891779455, 2.7366874512631267, 7.832626336424353, 9.201188681173967, 8.382876462292703, 5.030992784689289, 3.1611823229220324, 8.381178040566606, 7.963448030381257, 7.472360241619222, 8.42908884434731, 1.0625495958110598, 9.77040596415231, 2.858348802851809, 6.022227867552444, 6.778907280180015, 7.587526353433095, 3.5156152292868215, 0.718492715482647, 6.502868016385542, 4.210857041580023, 6.502676739141842, 8.822894733860657, 5.539608343276275, 9.462482808202086, 4.720034303449915, 2.677197735871802, 7.578329460109099, 8.971381197548236, 2.5490884011374826, 0.21011708531012863, 4.249019897332332, 4.722067475350995, 6.881898481955179, 8.670769656429684, 8.977415411660507, 9.712743317596242, 5.679991633219404, 7.15299887808084, 8.196459891779455, 7.34186165945942, 7.976420114772863, 8.747227309738534, 3.5627789904355947, 5.312079305119825, 5.262916631215148, 7.885705464569161, 1.5357896463405007, 5.894089514621151, 8.117764714909011, 9.316794675469689, 5.048466378308861, 7.5151010097738, 6.181660344687325, 5.178480924135109, 6.5876931871730875, 9.756635034245772, 9.316794675469689, 3.5749779618709523, 8.200395959609109, 5.633741008567728, 7.274939184668816, 3.7570501414408275, 5.082707257632778, 5.075914323272675, 8.786584586889234, 5.262916631215148, 0.22565845595961864, 8.318151114526236, 5.817421996317775, 5.391541172222848, 7.885705464569161, 9.713765147162405, 9.074913091348654, 7.021270610121433, 8.947842026730317, 8.093648654146845, 7.178693897873577, 8.17077807052927, 4.583847910489407, 6.747791259365673, 9.239598939849479, 1.8685820867575897, 9.854748576121027, 8.928400462730245, 4.5814049204015035, 3.3336010313926536, 3.809910754706076, 2.905248194605976, 7.271139119248171, 4.2977635616978755, 5.674390357275789, 7.261768330480127, 7.963380829733245, 9.356157632032836, 5.920602253494413, 2.000572215649049, 4.570030724026917, 7.859001533865494, 4.474623082305741, 9.381043474406216, 8.17077807052927, 8.420140681106771, 9.316794675469689, 8.992154882245929, 9.868468963127967, 8.200395959609109, 4.47698966401609, 7.126734829643197, 8.046405848289965, 5.383010851331949, 8.827946103223317, 7.159548224174221, 4.7609119712376895, 9.356157632032836, 7.76258913350947, 6.994352323116444, 6.747791259365673, 5.298489836611834, 6.728787549031134, 9.810187307896502, 8.552816631987506, 9.02408880527433, 9.316794675469689, 8.48838202457991, 6.728787549031134, 2.0282090521535645, 7.809590602100778, 3.6904928447370056, 8.468510259936709, 2.5778076706247512, 9.154065129117114, 7.963448030381257, 7.561071138381481, 7.15299887808084, 7.811623949651089, 9.280561793422711, 7.963380829733245, 6.811762691054508, 9.262540991410688, 8.30576289213703, 6.437059236852402, 3.0852863093590823, 7.499427177407326, 8.90070329472004, 4.651990180510598, 4.7609119712376895, 1.4263240147587486, 5.664118942489008, 2.5480246452632906, 9.678443689443586, 7.178693897873577, 3.0852863093590823, 9.464352582299, 5.551015641800031, 3.9215507923573876, 1.276385290453077, 3.809910754706076, 6.716417850403803, 1.5523207053123589, 5.977017826309538, 3.229400604114522, 7.390996024133258, 6.704874731915687, 8.977415411660507, 7.178693897873577, 8.246582768055958, 3.534936479900921, 9.868468963127967, 2.184346402956173, 9.755387746193717, 6.8746903034775055, 9.201188681173967, 5.077266332348592, 9.213876958244994, 5.167492438886762, 1.4934235089463543, 7.271139119248171, 9.275586227012797, 7.597348923453023, 7.146127129207804, 3.5749779618709523, 8.9024933212208, 8.110483349864486, 9.672378355360452, 1.2095662454975742, 9.976788859028913, 8.347191820786607, 4.142040138567738, 4.650209777621386, 4.778082654787445, 7.2242069411227945, 7.888473480651983, 9.803422264970136, 8.772567702614944, 4.360580691695899, 6.309003941037178, 5.9427001137611635, 9.976788859028913, 3.999049697480613, 6.652683005932635, 8.48838202457991, 2.583908449413579, 9.552011113519862, 7.976420114772863, 9.183214353924031, 6.789014942855468, 8.488855578253595, 8.246582768055958, 8.114132802132957, 8.670769656429684, 9.303141028307884, 2.1178516171958828, 6.369063866207578, 8.976023487862712, 4.250966132219212, 5.664118942489008, 6.943765987813498, 4.210654161041432, 9.464352582299, 9.400411123942321, 9.636391271361804, 8.087982054880605, 2.7338962474624493, 4.123435425052854, 5.894089514621151, 8.542358271777855, 3.8450999579095324, 8.30576289213703, 8.171939545081056, 8.971812726492061, 7.741158491459192, 5.633741008567728, 9.732372694119588, 7.630797142171034, 6.196263783629082, 7.466777174420308, 3.999049697480613, 7.2242069411227945, 9.993996765269415, 6.162708531473591, 7.147746493396388, 9.303141028307884, 7.08939603897397, 8.910315339995169, 1.9915247887535725, 2.7338962474624493, 4.885380905242892, 8.962729653394613, 4.023968248771832, 9.366266258087116, 6.674994032041033, 9.303141028307884, 4.797362575112452, 2.2093065193291928, 6.5876931871730875, 4.731322969097621, 7.902135799367427, 8.394505961631154, 4.207853179835252, 2.4482819303277417, 8.24671345729893, 8.892927983228851, 8.087982054880605, 3.686456373872391, 8.42908884434731, 4.074762733431216, 5.540100139270955, 7.578329460109099, 7.257071299089244, 8.200691926164886, 5.240644818872423, 0.9675087296255658, 4.053404374938504, 6.181660344687325, 4.0730628238588675, 3.549089970909769, 8.296978835625188, 4.030657343352618, 9.213876958244994, 1.106782571364875, 0.8512161673107455, 0.7900300907228763, 5.240644818872423, 6.809053078414648, 8.772567702614944, 2.779003365408977, 1.3598663977551506, 4.717181027735391, 4.030913049136323, 7.529376117867757, 5.817196994915338, 9.275586227012797, 8.639721299634159, 8.769089526047463, 6.122803313218434, 8.67075364387572, 3.755844467515704, 7.18076966277705, 5.084313559374748, 9.780265594063518, 5.447235391161824, 4.797362575112452, 4.490854198149007, 9.183214353924031, 7.19210693982045, 8.318151114526236, 7.976420114772863, 8.428919457785907, 8.046405848289965, 7.5151010097738, 6.196263783629082, 7.977590221068947, 8.30576289213703, 8.730589197778967, 7.406357446755537, 9.280561793422711, 1.563072220715035, 7.859001533865494, 9.201188681173967, 7.558727317478763, 6.8779151597237735, 7.164175378869033, 8.127341885505512, 6.257045100653781, 5.391238252363121, 7.561071138381481, 4.1155276940031875, 1.8021155463029792, 9.183214353924031, 2.0329142651304988, 6.534930986422704, 9.993996765269415, 4.929281231454572, 7.773343098691416, 8.42558052098349, 9.827944895880684, 7.505092631127294, 8.42908884434731, 9.712743317596242, 4.937618125071756, 6.763526536726994, 7.809590602100778, 1.1364393246374527, 5.487910173188842, 1.9246514884227317, 1.2559561762892812, 2.186360935439362, 7.187886389035587, 8.25776232015556, 9.083511582097112, 9.638700487391935, 7.0751743752060205, 9.659841781656658, 8.971812726492061, 7.147746493396388, 3.946522110856443, 1.3265434230233086, 2.061632075122067, 8.34119294204532, 9.083511582097112, 6.309003941037178, 9.400411123942321, 4.731806521581432, 8.474605564777576, 5.922742470947291, 8.20710270795239, 9.967700085675128, 9.854748576121027, 4.112878277161368, 2.0282090521535645, 1.4892899761737943, 6.1415317627363795, 4.937618125071756, 6.345517078960424, 6.674994032041033, 7.156823887794723, 9.157454681484335, 1.8701545965047273, 9.154065129117114, 1.6286140766739776, 9.135652844190963, 7.118728907921016, 7.679664352869125, 1.5105078048994092, 8.432341927651525, 2.6467794277837875, 7.466777174420308, 9.964610527559667, 8.420140681106771, 7.02655252853316, 2.329482566851512, 1.5105078048994092, 8.296978835625188, 3.4763196459115497, 7.52389217956995, 3.5749779618709523, 6.686871714415588, 9.826985206538343, 9.638700487391935, 5.9427001137611635, 9.391229089137864, 7.726595241293031, 5.588161823510149, 7.390283797049513, 4.151394942645874, 7.227491972453781, 7.5144299895780495, 8.187491094924301, 3.809910754706076, 7.812384575590786, 9.513134855751664, 8.959563786481448, 8.02419693782338, 7.4668895964308835, 7.207955914676902, 7.894393262328448, 5.968457552900478, 9.400411123942321, 5.180058003158951, 3.0689428537932537, 9.552011113519862, 7.0879728760299425, 7.149326734864749, 3.4763196459115497, 9.967700085675128, 9.77040596415231, 7.0879728760299425, 3.9959160792520585, 6.881898481955179, 6.994352323116444, 6.7496494714418205, 7.894393262328448, 7.581141840571347, 7.553550480843366, 5.674390357275789, 6.367803403888178, 9.316794675469689, 7.811623949651089, 9.827790160429782, 7.529376117867757, 5.806840976283857, 5.240644818872423, 8.171939545081056, 9.083511582097112, 4.843369220682807, 1.1024994191685633, 4.072790921349827, 5.817196994915338, 5.2758494520491634, 5.252478044953087, 9.717696032264103, 8.931820377739106, 3.618967484139425, 3.197967450719925, 3.2011078816267213, 9.076923709382578, 8.466810942767696, 0.42074448475918014, 2.04263529676608, 8.127341885505512, 4.751948660462158, 5.396635671967573, 8.573381001286979, 9.953327751191106, 9.964610527559667, 5.865505197628339, 5.084313559374748, 6.7496494714418205, 5.010086324983909, 4.474623082305741, 1.276385290453077, 8.629366227609637, 8.573381001286979, 8.200691926164886, 6.231116420594811, 3.039725626265637, 9.083511582097112, 7.246540720010049, 8.704379224609385, 0.17101771358950524, 4.770097345881071, 1.613114889770978, 8.246582768055958, 4.023968248771832, 8.76163011852242, 7.811306733566113, 1.4127127409073226, 6.5395183192070485, 8.432341927651525, 9.306345474954137, 9.581853885736923, 8.200691926164886, 5.096053000145897, 2.241349136155394, 4.0419065957133, 3.7570501414408275, 7.529376117867757, 6.917433349020129, 8.153851025850665, 6.674994032041033, 6.012087759263331, 8.360910041207639, 6.039896872003689, 9.898322713569744, 4.778082654787445, 9.659841781656658, 6.709990542417055, 8.090963015702341, 7.553550480843366, 9.135652844190963, 6.681153453616925, 6.156474352625329, 1.3598663977551506, 7.556436941391355, 6.926251796879061, 9.713765147162405, 7.832626336424353, 2.020596320895207, 8.380548768552128, 7.52955232689545, 7.118060675529269, 7.578329460109099, 6.994352323116444, 9.854748576121027, 7.156823887794723, 3.686456373872391, 9.678443689443586, 6.763526536726994, 9.964610527559667, 7.4668895964308835, 5.920602253494413, 4.474623082305741, 6.398685718653704, 4.242136215147802, 2.2912261615038956, 8.639721299634159, 9.898322713569744, 6.082779062212386, 5.4565239278810695, 6.172657169362626, 9.356157632032836, 8.420140681106771, 0.6558984711144256, 9.464352582299, 8.992154882245929, 9.306345474954137, 8.584926154662856, 9.464352582299, 9.154065129117114, 3.4476225497565514, 7.156823887794723, 3.545792485005178, 9.659841781656658, 5.18402750631068, 9.732372694119588, 4.813351822304598, 2.410387900585885, 9.827790160429782, 7.983643960922034, 0.8411041241037209, 1.0625495958110598, 6.1415317627363795, 6.033180307551966, 7.192535934841561, 8.381178040566606, 7.02655252853316, 6.778907280180015, 7.390996024133258, 2.3961975062260032, 5.6067774625584175, 6.89870703017605, 2.000572215649049, 6.743407334379885, 7.178693897873577, 7.865147769478682, 1.2768947649287965, 6.728787549031134, 4.783138500260682, 7.187661723292472, 5.030992784689289, 0.6558984711144256, 9.998849214668473, 9.400411123942321, 1.3694069966720357, 4.890057989523244, 2.2987132648924993, 0.2431627092491151, 9.868468963127967, 7.561071138381481, 2.9041456829591503, 8.068110131181815, 5.805407149366894, 9.961994116455797, 5.888396394187242, 2.5015971797332504, 8.42558052098349, 6.881898481955179, 2.677197735871802, 4.815196801801306, 3.9467383689813573, 9.462482808202086, 8.42558052098349, 6.039896872003689, 4.346107401871623, 9.827944895880684, 4.151394942645874, 9.77040596415231, 4.030657343352618, 6.175220820832246, 5.278937303552311, 4.142040138567738, 3.999049697480613, 6.326892562087, 7.4479500190096655, 6.4025148742232, 9.638700487391935, 4.764210361536097, 7.31867170461515, 9.953327751191106, 4.114242692293962, 3.3247303065159217, 8.962729653394613, 7.164175378869033, 3.686456373872391, 9.562026921931091, 4.837635736803528, 3.7585007846317833, 4.112878277161368, 4.622896335636426, 8.808368338939443, 8.90070329472004, 5.539608343276275, 5.477656075449947, 7.811306733566113, 8.087982054880605, 4.731806521581432, 7.126734829643197, 2.6246341676554428, 4.170271188546655, 9.663963344245282, 9.795721575535497, 1.8968744677617755, 9.418964265928293, 4.731806521581432, 4.536527793912917, 2.1514155995161865, 6.925372057238817, 4.810250423401417, 7.888473480651983, 2.779003365408977, 5.914976543412328, 8.171939545081056, 1.81068588894302, 5.226510126830597, 0.1413345706080127, 2.936671077303407, 5.653735185168223, 5.391541172222848, 0.05910233139167165, 7.553550480843366, 7.811306733566113, 5.030992784689289, 3.1133621886293037, 4.720034303449915, 6.926251796879061, 6.994352323116444, 2.5015971797332504, 5.935061300598131, 9.998849214668473, 8.747227309738534, 7.348713993112655, 4.735126402464594, 8.093648654146845, 9.664808961115543, 9.663963344245282, 8.335548550133684, 2.1514155995161865, 8.962729653394613, 8.283769818244997, 5.011891726455674, 3.755844467515704, 5.7053408593136465, 5.167492438886762, 8.087982054880605, 6.778907280180015, 6.4025148742232, 6.537349290000163, 6.747791259365673, 6.5395183192070485, 6.652683005932635, 6.747791259365673, 9.209249429273832, 8.575988686348389, 4.696395183955829, 6.652683005932635, 6.716417850403803, 9.083511582097112, 3.80820316317401, 2.241349136155394, 8.363010177854171, 5.010086324983909, 8.858669608143918, 7.561071138381481, 4.735126402464594, 7.499427177407326, 6.537349290000163, 9.732372694119588, 4.843369220682807, 1.0454160259721201, 2.5480246452632906, 8.028818826859508, 8.947842026730317, 1.6686858607502864, 8.289522476317488, 8.830431103806253, 7.31867170461515, 4.422140654919492, 3.9230717605616627, 7.52955232689545, 4.23745719481905, 4.47698966401609, 5.096053000145897, 6.175220820832246, 5.551015641800031, 4.55100431441862, 8.928400462730245, 6.930920940716686, 1.0454160259721201, 7.6977339088484324, 7.147746493396388, 5.734527173694728, 2.4042612806969688, 3.5790113148583003, 7.159548224174221, 6.808293998784906, 5.914976543412328, 7.8174073465016525, 9.262540991410688, 0.4618790533786099, 8.747227309738534, 5.178480924135109, 8.56045727289578, 9.183214353924031, 6.398685718653704, 9.678443689443586, 0.7061745593349111, 7.4479500190096655, 9.663963344245282, 8.69032849199695, 1.6416138687299187, 8.959563786481448, 7.02655252853316, 4.415808303382677, 3.1526599465390426, 4.536527793912917, 8.189623463564587, 7.5144299895780495, 8.068110131181815, 9.157454681484335, 6.973043241506475, 8.200691926164886, 6.401430240651955, 2.04263529676608, 8.552816631987506, 7.73345602134135, 8.56045727289578, 1.1364393246374527, 3.1509233150770277, 7.338981922572438, 5.391541172222848, 3.6528959678256614, 9.854748576121027, 4.797362575112452, 9.584557115769032, 9.262540991410688, 7.021270610121433, 8.25776232015556, 4.39842010554778, 7.257071299089244, 6.630376988605789, 7.809590602100778, 5.988773796467173, 6.152150793665626, 6.3158922269814965, 8.335548550133684, 4.717181027735391, 3.985816166551043, 7.187661723292472, 8.380548768552128, 5.319477319754191, 9.364796428019284, 5.922742470947291, 8.24671345729893, 8.20710270795239, 6.952321078152791, 5.093467002795683, 6.502676739141842, 5.262916631215148, 9.755387746193717, 7.274939184668816, 3.7078494584302724, 2.421990813487506, 7.6977339088484324, 4.740320803646539, 7.977590221068947, 7.8174073465016525, 5.494002321828729, 2.2306237811744998, 5.010086324983909, 8.33694506682305]\n"
     ]
    }
   ],
   "source": [
    "# A test function\n",
    "def test_func(x,a=1,b=1):\n",
    "    return abs(a*x+b)\n",
    "\n",
    "result = generate_function(test_func, 0, 10, N=1000)\n",
    "print(result)  "
   ]
  },
  {
   "cell_type": "markdown",
   "metadata": {},
   "source": [
    "*Exercise 8:* Use your function to generate 1000 numbers that are normal distributed, using the `gaussian` function below. Confirm the mean and variance of the data is close to the mean and variance you specify when building the Gaussian. Histogram the data. "
   ]
  },
  {
   "cell_type": "code",
   "execution_count": null,
   "metadata": {},
   "outputs": [],
   "source": [
    "import math\n",
    "\n",
    "def gaussian(mean, sigma):\n",
    "    def f(x):\n",
    "        return math.exp(-((x-mean)**2)/(2*sigma**2))/math.sqrt(math.pi*sigma)\n",
    "    return f\n",
    "\n",
    "# Example Instantiation\n",
    "g1=gaussian(0,1)\n",
    "g2=gaussian(10,3)"
   ]
  },
  {
   "cell_type": "code",
   "execution_count": 120,
   "metadata": {},
   "outputs": [
    {
     "name": "stdout",
     "output_type": "stream",
     "text": [
      "Generated Data Mean: 0.08\n",
      "Generated Data Variance: 1.03\n"
     ]
    },
    {
     "data": {
      "image/png": "[encoded data removed]",
      "text/plain": [
       "<Figure size 640x480 with 1 Axes>"
      ]
     },
     "metadata": {},
     "output_type": "display_data"
    }
   ],
   "source": [
    "import math\n",
    "import matplotlib.pyplot as plt\n",
    "\n",
    "def gaussian(mean, sigma):\n",
    "    def f(x):\n",
    "        return math.exp(-((x - mean) ** 2) / (2 * sigma ** 2)) / math.sqrt(2 * math.pi * sigma ** 2)\n",
    "    return f\n",
    "    \n",
    "# Create Gaussian functions\n",
    "g1 = gaussian(0, 1)\n",
    "g2 = gaussian(10, 3)  \n",
    "\n",
    "# Generate 1000 numbers from the first Gaussian\n",
    "data = generate_function(g1, -5, 5, N=1000)\n",
    "\n",
    "# Calculate mean and variance\n",
    "mean_data = sum(data) / len(data)\n",
    "variance_data = sum((x - mean_data) ** 2 for x in data) / len(data)\n",
    "\n",
    "print(f\"Generated Data Mean: {mean_data:.2f}\")\n",
    "print(f\"Generated Data Variance: {variance_data:.2f}\")\n",
    "\n",
    "# Plot histogram\n",
    "plt.hist(data, bins=30, density=True, alpha=0.6, color='g')\n",
    "\n",
    "# Overlay the theoretical Gaussian curve\n",
    "x = [i / 10.0 for i in range(-50, 60)]\n",
    "plt.plot(x, [g1(i) for i in x], color='red', linewidth=2)\n",
    "plt.title('Histogram of Generated Gaussian Data')\n",
    "plt.xlabel('Value')\n",
    "plt.ylabel('Density')\n",
    "plt.show()\n"
   ]
  },
  {
   "cell_type": "raw",
   "metadata": {},
   "source": [
    "*Exercise 9:* Combine your `generate_function`, `where`, and `in_range` functions above to create an integrate function. Use your integrate function to show that approximately 68% of Normal distribution is within one variance."
   ]
  },
  {
   "cell_type": "code",
   "execution_count": 129,
   "metadata": {},
   "outputs": [],
   "source": [
    "def integrate(func, x_min, x_max, n_points=1000):\n",
    "    \n",
    "    return integral"
   ]
  },
  {
   "cell_type": "code",
   "execution_count": 130,
   "metadata": {},
   "outputs": [
    {
     "ename": "TypeError",
     "evalue": "generate_function() missing 2 required positional arguments: 'x_min' and 'x_max'",
     "output_type": "error",
     "traceback": [
      "\u001b[0;31m---------------------------------------------------------------------------\u001b[0m",
      "\u001b[0;31mTypeError\u001b[0m                                 Traceback (most recent call last)",
      "Cell \u001b[0;32mIn[130], line 1\u001b[0m\n\u001b[0;32m----> 1\u001b[0m result \u001b[38;5;241m=\u001b[39m \u001b[43mintegrate\u001b[49m\u001b[43m(\u001b[49m\u001b[43mgenerate_function\u001b[49m\u001b[43m,\u001b[49m\u001b[43m \u001b[49m\u001b[38;5;241;43m0\u001b[39;49m\u001b[43m,\u001b[49m\u001b[43m \u001b[49m\u001b[38;5;241;43m1\u001b[39;49m\u001b[43m)\u001b[49m\n\u001b[1;32m      2\u001b[0m \u001b[38;5;28mprint\u001b[39m(result)\n",
      "Cell \u001b[0;32mIn[129], line 9\u001b[0m, in \u001b[0;36mintegrate\u001b[0;34m(func, x_min, x_max, n_points)\u001b[0m\n\u001b[1;32m      6\u001b[0m x_values \u001b[38;5;241m=\u001b[39m np\u001b[38;5;241m.\u001b[39mlinspace(x_min, x_max, n_points)\n\u001b[1;32m      8\u001b[0m \u001b[38;5;66;03m# Calculate the corresponding y values\u001b[39;00m\n\u001b[0;32m----> 9\u001b[0m y_values \u001b[38;5;241m=\u001b[39m \u001b[43mfunc\u001b[49m\u001b[43m(\u001b[49m\u001b[43mx_values\u001b[49m\u001b[43m)\u001b[49m\n\u001b[1;32m     11\u001b[0m \u001b[38;5;66;03m# Apply the trapezoidal rule\u001b[39;00m\n\u001b[1;32m     12\u001b[0m h \u001b[38;5;241m=\u001b[39m (x_max \u001b[38;5;241m-\u001b[39m x_min) \u001b[38;5;241m/\u001b[39m (n_points \u001b[38;5;241m-\u001b[39m \u001b[38;5;241m1\u001b[39m)\n",
      "\u001b[0;31mTypeError\u001b[0m: generate_function() missing 2 required positional arguments: 'x_min' and 'x_max'"
     ]
    }
   ],
   "source": []
  },
  {
   "cell_type": "markdown",
   "metadata": {},
   "source": [
    "# "
   ]
  }
 ],
 "metadata": {
  "kernelspec": {
   "display_name": "Python 3 (ipykernel)",
   "language": "python",
   "name": "python3"
  },
  "language_info": {
   "codemirror_mode": {
    "name": "ipython",
    "version": 3
   },
   "file_extension": ".py",
   "mimetype": "text/x-python",
   "name": "python",
   "nbconvert_exporter": "python",
   "pygments_lexer": "ipython3",
   "version": "3.10.12"
  }
 },
 "nbformat": 4,
 "nbformat_minor": 4
}
