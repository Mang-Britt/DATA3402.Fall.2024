{
 "cells": [
  {
   "cell_type": "markdown",
   "metadata": {},
   "source": [
    "## Lab 2- Tic Tac Toe\n",
    "\n",
    "In this lab your will build a n x n Tic Tac Toe game. As you do the exercises, make sure your solutions work for any size Tic Tac Toe game. "
   ]
  },
  {
   "cell_type": "markdown",
   "metadata": {},
   "source": [
    "*Exercise 1:* Write a function that creates an n by n matrix (of list of lists) which will represent the state of a Tie Tac Toe game. Let 0, 1, and 2 represent empty, \"X\", and \"O\", respectively.\n"
   ]
  },
  {
   "cell_type": "code",
   "execution_count": 16,
   "metadata": {},
   "outputs": [],
   "source": [
    "# Write your solution here\n",
    "player_1 = 1\n",
    "player_2 = 2\n",
    "empty = 0\n",
    "\n",
    "size = 3\n",
    "\n",
    "board=[[empty]*size for i in range(size)]\n"
   ]
  },
  {
   "cell_type": "code",
   "execution_count": 17,
   "metadata": {},
   "outputs": [
    {
     "data": {
      "text/plain": [
       "[[0, 0, 0], [0, 0, 0], [0, 0, 0]]"
      ]
     },
     "execution_count": 17,
     "metadata": {},
     "output_type": "execute_result"
    }
   ],
   "source": [
    "# Test your solution here\n",
    "board"
   ]
  },
  {
   "cell_type": "markdown",
   "metadata": {},
   "source": [
    "*Exercise 2:* Write a function that takes 2 integers `n` and `m` as input and draws a `n` by `m` game board. For example the following is a 3x3 board:\n",
    "```\n",
    "   --- --- --- \n",
    "  |   |   |   | \n",
    "   --- --- ---  \n",
    "  |   |   |   | \n",
    "   --- --- ---  \n",
    "  |   |   |   | \n",
    "   --- --- --- \n",
    "   ```"
   ]
  },
  {
   "cell_type": "code",
   "execution_count": 3,
   "metadata": {},
   "outputs": [],
   "source": [
    "# Write you solution here\n",
    "def draw_board(n, m):\n",
    "    # Initialize an empty board\n",
    "    board = [[' ' for _ in range(m)] for _ in range(n)]\n",
    "    \n",
    "    # Function to print the board in matrix form\n",
    "    for i in range(n):\n",
    "        print(\" | \".join(board[i]))  # Print each row with '|' separating the cells\n",
    "        if i != n - 1:\n",
    "            print(\"---\" * (m - 1))  # Print horizontal lines between rows\n"
   ]
  },
  {
   "cell_type": "code",
   "execution_count": 4,
   "metadata": {
    "scrolled": true
   },
   "outputs": [
    {
     "name": "stdout",
     "output_type": "stream",
     "text": [
      "  |   |   |  \n",
      "---------\n",
      "  |   |   |  \n",
      "---------\n",
      "  |   |   |  \n"
     ]
    }
   ],
   "source": [
    "# Test your solution here\n",
    "# Get input for n and m\n",
    "n = 3\n",
    "m = 4\n",
    "\n",
    "# Draw the Tic-Tac-Toe board\n",
    "draw_board(n, m)"
   ]
  },
  {
   "cell_type": "markdown",
   "metadata": {},
   "source": [
    "*Exercise 3:* Modify exercise 2, so that it takes a matrix of the form from exercise 1 and draws a tic-tac-tie board with \"X\"s and \"O\"s.  "
   ]
  },
  {
   "cell_type": "code",
   "execution_count": 5,
   "metadata": {},
   "outputs": [],
   "source": [
    "# Write you solution here\n",
    "def draw_board(board):\n",
    "    n = len(board)    # Number of rows\n",
    "    m = len(board[0]) # Number of columns\n",
    "    \n",
    "    # Function to print the board in matrix form\n",
    "    for i in range(n):\n",
    "        # Convert each cell in the row to a string and print with '|' separating the cells\n",
    "        print(\" | \".join(map(str, board[i])))\n",
    "        \n",
    "        # Print horizontal lines between rows (except after the last row)\n",
    "        if i != n - 1:\n",
    "            print(\"---\" * m + \"-\" * (m - 1))  # Correct line for m columns"
   ]
  },
  {
   "cell_type": "code",
   "execution_count": 6,
   "metadata": {},
   "outputs": [
    {
     "name": "stdout",
     "output_type": "stream",
     "text": [
      "0 | 0 | 0\n",
      "-----------\n",
      "0 | 0 | 0\n",
      "-----------\n",
      "0 | 0 | 0\n"
     ]
    }
   ],
   "source": [
    "# Test your solution here\n",
    "draw_board(board)"
   ]
  },
  {
   "cell_type": "markdown",
   "metadata": {},
   "source": [
    "*Exercise 4:* Write a function that takes a `n` by `n` matrix representing a tic-tac-toe game, and returns -1, 0, 1, or 2 indicating the game is incomplete, the game is a draw, player 1 has won, or player 2 has one, respectively. Here are some example inputs you can use to test your code:"
   ]
  },
  {
   "cell_type": "code",
   "execution_count": 7,
   "metadata": {},
   "outputs": [],
   "source": [
    "# Write you solution here\n",
    "def check_winner(board):\n",
    "    size = len(board)\n",
    "    \n",
    "    # Check rows and columns\n",
    "    for i in range(size):\n",
    "        # Check row\n",
    "        if board[i][0] != 0 and all(board[i][j] == board[i][0] for j in range(size)):\n",
    "            return board[i][0]  # Return player 1 or 2\n",
    "        \n",
    "        # Check column\n",
    "        if board[0][i] != 0 and all(board[j][i] == board[0][i] for j in range(size)):\n",
    "            return board[0][i]  # Return player 1 or 2\n",
    "    \n",
    "    # Check main diagonal\n",
    "    if board[0][0] != 0 and all(board[i][i] == board[0][0] for i in range(size)):\n",
    "        return board[0][0]  # Return player 1 or 2\n",
    "    \n",
    "    # Check anti-diagonal\n",
    "    if board[0][size - 1] != 0 and all(board[i][size - 1 - i] == board[0][size - 1] for i in range(size)):\n",
    "        return board[0][size - 1]  # Return player 1 or 2\n",
    "    \n",
    "    # Check for incomplete game\n",
    "    for row in board:\n",
    "        if empty in row:\n",
    "            return -1  # Game is incomplete\n",
    "    \n",
    "    # If no winner and no empty cells, it's a draw\n",
    "    return 0\n"
   ]
  },
  {
   "cell_type": "code",
   "execution_count": 8,
   "metadata": {},
   "outputs": [
    {
     "name": "stdout",
     "output_type": "stream",
     "text": [
      "1\n"
     ]
    }
   ],
   "source": [
    "# Test your solution here\n",
    "board  = [[0, 1, 0],\n",
    "\t[2, 1, 0],\n",
    "\t[2, 1, 1]]\n",
    "print(check_winner(board))"
   ]
  },
  {
   "cell_type": "code",
   "execution_count": null,
   "metadata": {
    "collapsed": true,
    "jupyter": {
     "outputs_hidden": true
    }
   },
   "outputs": [],
   "source": [
    "winner_is_2 = [[2, 2, 0],\n",
    "\t[2, 1, 0],\n",
    "\t[2, 1, 1]]\n",
    "\n",
    "winner_is_1 = [[1, 2, 0],\n",
    "\t[2, 1, 0],\n",
    "\t[2, 1, 1]]\n",
    "\n",
    "winner_is_also_1 = [[0, 1, 0],\n",
    "\t[2, 1, 0],\n",
    "\t[2, 1, 1]]\n",
    "\n",
    "no_winner = [[1, 2, 0],\n",
    "\t[2, 1, 0],\n",
    "\t[2, 1, 2]]\n",
    "\n",
    "also_no_winner = [[1, 2, 0],\n",
    "\t[2, 1, 0],\n",
    "\t[2, 1, 0]]"
   ]
  },
  {
   "cell_type": "markdown",
   "metadata": {},
   "source": [
    "*Exercise 5:* Write a function that takes a game board, player number, and `(x,y)` coordinates and places \"X\" or \"O\" in the correct location of the game board. Make sure that you only allow filling previously empty locations. Return `True` or `False` to indicate successful placement of \"X\" or \"O\"."
   ]
  },
  {
   "cell_type": "code",
   "execution_count": 9,
   "metadata": {},
   "outputs": [],
   "source": [
    "# Write you solution here\n",
    "def place_marker(board, player, x, y):\n",
    "    marker = player_1 if player == 1 else player_2\n",
    "    \n",
    "    if 0 <= x < len(board) and 0 <= y < len(board[0]) and board[x][y] == empty:\n",
    "        board[x][y] = marker  # Place the marker\n",
    "        return True           # Return True for successful placement\n",
    "    else:\n",
    "        return False          # Return False if position is not empty"
   ]
  },
  {
   "cell_type": "code",
   "execution_count": 54,
   "metadata": {},
   "outputs": [
    {
     "name": "stdout",
     "output_type": "stream",
     "text": [
      "False\n",
      "[[0, 0, 0], [0, 1, 0], [0, 2, 0]]\n"
     ]
    }
   ],
   "source": [
    "# Test your solution here\n",
    "print(place_marker(board, 3, 2, 1))\n",
    "print(board)"
   ]
  },
  {
   "cell_type": "markdown",
   "metadata": {},
   "source": [
    "*Exercise 6:* Modify Exercise 4 to show column and row labels so that players can specify location using \"A2\" or \"C1\"."
   ]
  },
  {
   "cell_type": "code",
   "execution_count": 10,
   "metadata": {},
   "outputs": [],
   "source": [
    "# Write you solution here\n",
    "def draw_board(board):\n",
    "    n = len(board)    # Number of rows\n",
    "    m = len(board[0]) # Number of columns\n",
    "    \n",
    "    # Print column labels\n",
    "    print(\"   \" + \"   \".join(f\"{chr(65 + i)}\" for i in range(m)))\n",
    "    \n",
    "    # Print each row with row label and cell values\n",
    "    for i in range(n):\n",
    "        # Print row label followed by row values\n",
    "        print(f\"{i + 1}  \" + \" | \".join(map(str, board[i])))\n",
    "        \n",
    "        # Print horizontal lines between rows (except after the last row)\n",
    "        if i != n - 1:\n",
    "            print(\"   \" + \"---\" * m + \"-\" * (m - 1))\n"
   ]
  },
  {
   "cell_type": "code",
   "execution_count": 71,
   "metadata": {},
   "outputs": [
    {
     "name": "stdout",
     "output_type": "stream",
     "text": [
      "   A   B   C\n",
      "1  0 | 0 | 0\n",
      "   -----------\n",
      "2  0 | 1 | 0\n",
      "   -----------\n",
      "3  0 | 2 | 0\n"
     ]
    }
   ],
   "source": [
    "# Test your solution here\n",
    "draw_board(board)"
   ]
  },
  {
   "cell_type": "markdown",
   "metadata": {},
   "source": [
    "*Exercise 7:* Write a function that takes a board, player number, and location specified as in exercise 6 and then calls exercise 5 to correctly modify the board.  "
   ]
  },
  {
   "cell_type": "code",
   "execution_count": 11,
   "metadata": {},
   "outputs": [],
   "source": [
    "# Write you solution here\n",
    "def draw_board(board):\n",
    "    n = len(board)    # Number of rows\n",
    "    m = len(board[0]) # Number of columns\n",
    "    \n",
    "    # Print column labels\n",
    "    print(\"   \" + \"   \".join(f\"{chr(65 + i)}\" for i in range(m)))\n",
    "    \n",
    "    # Print each row with row label and cell values\n",
    "    for i in range(n):\n",
    "        # Print row label followed by row values\n",
    "        print(f\"{i + 1}  \" + \" | \".join(map(str, board[i])))\n",
    "        \n",
    "        # Print horizontal lines between rows (except after the last row)\n",
    "        if i != n - 1:\n",
    "            print(\"   \" + \"---\" * m + \"-\" * (m - 1))\n",
    "\n",
    "def place_marker(board, player, location):\n",
    "    # Translate location (e.g., 'A2') into board indices\n",
    "    col_label, row_label = location[0], location[1:]\n",
    "    \n",
    "    # Convert column letter to index (e.g., 'A' -> 0, 'B' -> 1)\n",
    "    col = ord(col_label.upper()) - ord('A')\n",
    "    # Convert row label to index (e.g., '1' -> 0, '2' -> 1)\n",
    "    row = int(row_label) - 1\n",
    "    \n",
    "    # Check if the position is within bounds and empty\n",
    "    if 0 <= row < len(board) and 0 <= col < len(board[0]) and board[row][col] == empty:\n",
    "        marker = player_1 if player == 1 else player_2\n",
    "        board[row][col] = marker  # Place the marker\n",
    "        return True  # Successful placement\n",
    "    else:\n",
    "        return False  # Invalid move\n"
   ]
  },
  {
   "cell_type": "code",
   "execution_count": 77,
   "metadata": {},
   "outputs": [
    {
     "name": "stdout",
     "output_type": "stream",
     "text": [
      "True\n"
     ]
    }
   ],
   "source": [
    "# Test your solution here\n",
    "print(place_marker(board, 1, 'A1'))"
   ]
  },
  {
   "cell_type": "markdown",
   "metadata": {},
   "source": [
    "*Exercise 8:* Write a function is called with a board and player number, takes input from the player using python's `input`, and modifies the board using your function from exercise 7. Note that you should keep asking for input until you have gotten a valid input that results in a valid move."
   ]
  },
  {
   "cell_type": "code",
   "execution_count": 12,
   "metadata": {},
   "outputs": [],
   "source": [
    "# Write you solution here\n",
    "def player_move(board, player):\n",
    "    while True:\n",
    "        # Prompt the player for a location\n",
    "        location = input(f\"Player {player}, enter your move (e.g., A2): \").strip()\n",
    "        \n",
    "        # Attempt to place the marker\n",
    "        if place_marker(board, player, location):\n",
    "            print(f\"Player {player} placed a marker at {location}.\")\n",
    "            draw_board(board)\n",
    "            break  # Break the loop if the move is valid\n",
    "        else:\n",
    "            print(f\"Invalid move at {location}. Please try again.\")\n"
   ]
  },
  {
   "cell_type": "code",
   "execution_count": 19,
   "metadata": {},
   "outputs": [
    {
     "name": "stdin",
     "output_type": "stream",
     "text": [
      "Player 2, enter your move (e.g., A2):  B1\n"
     ]
    },
    {
     "name": "stdout",
     "output_type": "stream",
     "text": [
      "Player 2 placed a marker at B1.\n",
      "   A   B   C\n",
      "1  0 | 2 | 0\n",
      "   -----------\n",
      "2  1 | 0 | 0\n",
      "   -----------\n",
      "3  0 | 0 | 0\n"
     ]
    }
   ],
   "source": [
    "# Test your solution here\n",
    "player_move(board, 2)"
   ]
  },
  {
   "cell_type": "markdown",
   "metadata": {},
   "source": [
    "*Exercise 9:* Use all of the previous exercises to implement a full tic-tac-toe game, where an appropriate board is drawn, 2 players are repeatedly asked for a location coordinates of where they wish to place a mark, and the game status is checked until a player wins or a draw occurs."
   ]
  },
  {
   "cell_type": "code",
   "execution_count": 21,
   "metadata": {},
   "outputs": [],
   "source": [
    "# Write you solution here\n",
    "def play_game(board):\n",
    "    current_player = 1  # Start with Player 1\n",
    "    \n",
    "    while True:\n",
    "        # Prompt the current player for a move\n",
    "        player_move(board, current_player)\n",
    "        \n",
    "        # Check the game status after the move\n",
    "        result = check_winner(board)\n",
    "        \n",
    "        if result == player_1:\n",
    "            print(\"Player 1 wins!\")\n",
    "            break\n",
    "        elif result == player_2:\n",
    "            print(\"Player 2 wins!\")\n",
    "            break\n",
    "        elif result == 0:\n",
    "            print(\"The game is a draw!\")\n",
    "            break\n",
    "        \n",
    "        # Switch player\n",
    "        current_player = 2 if current_player == 1 else 1\n"
   ]
  },
  {
   "cell_type": "code",
   "execution_count": 22,
   "metadata": {},
   "outputs": [
    {
     "name": "stdin",
     "output_type": "stream",
     "text": [
      "Player 1, enter your move (e.g., A2):  A1\n"
     ]
    },
    {
     "name": "stdout",
     "output_type": "stream",
     "text": [
      "Player 1 placed a marker at A1.\n",
      "   A   B   C\n",
      "1  1 | 2 | 0\n",
      "   -----------\n",
      "2  1 | 0 | 0\n",
      "   -----------\n",
      "3  0 | 0 | 0\n"
     ]
    },
    {
     "name": "stdin",
     "output_type": "stream",
     "text": [
      "Player 2, enter your move (e.g., A2):  c1\n"
     ]
    },
    {
     "name": "stdout",
     "output_type": "stream",
     "text": [
      "Player 2 placed a marker at c1.\n",
      "   A   B   C\n",
      "1  1 | 2 | 2\n",
      "   -----------\n",
      "2  1 | 0 | 0\n",
      "   -----------\n",
      "3  0 | 0 | 0\n"
     ]
    },
    {
     "name": "stdin",
     "output_type": "stream",
     "text": [
      "Player 1, enter your move (e.g., A2):  a3\n"
     ]
    },
    {
     "name": "stdout",
     "output_type": "stream",
     "text": [
      "Player 1 placed a marker at a3.\n",
      "   A   B   C\n",
      "1  1 | 2 | 2\n",
      "   -----------\n",
      "2  1 | 0 | 0\n",
      "   -----------\n",
      "3  1 | 0 | 0\n",
      "Player 1 wins!\n"
     ]
    }
   ],
   "source": [
    "# Test your solution here\n",
    "play_game(board)"
   ]
  },
  {
   "cell_type": "markdown",
   "metadata": {},
   "source": [
    "*Exercise 10:* Test that your game works for 5x5 Tic Tac Toe.  "
   ]
  },
  {
   "cell_type": "code",
   "execution_count": 25,
   "metadata": {},
   "outputs": [
    {
     "name": "stdout",
     "output_type": "stream",
     "text": [
      "   A   B   C   D   E\n",
      "1  0 | 0 | 0 | 0 | 0\n",
      "   -------------------\n",
      "2  0 | 0 | 0 | 0 | 0\n",
      "   -------------------\n",
      "3  0 | 0 | 0 | 0 | 0\n",
      "   -------------------\n",
      "4  0 | 0 | 0 | 0 | 0\n",
      "   -------------------\n",
      "5  0 | 0 | 0 | 0 | 0\n"
     ]
    },
    {
     "name": "stdin",
     "output_type": "stream",
     "text": [
      "Player 1, enter your move (e.g., A2):  a1\n"
     ]
    },
    {
     "name": "stdout",
     "output_type": "stream",
     "text": [
      "Player 1 placed a marker at a1.\n",
      "   A   B   C   D   E\n",
      "1  1 | 0 | 0 | 0 | 0\n",
      "   -------------------\n",
      "2  0 | 0 | 0 | 0 | 0\n",
      "   -------------------\n",
      "3  0 | 0 | 0 | 0 | 0\n",
      "   -------------------\n",
      "4  0 | 0 | 0 | 0 | 0\n",
      "   -------------------\n",
      "5  0 | 0 | 0 | 0 | 0\n"
     ]
    },
    {
     "name": "stdin",
     "output_type": "stream",
     "text": [
      "Player 2, enter your move (e.g., A2):  b1\n"
     ]
    },
    {
     "name": "stdout",
     "output_type": "stream",
     "text": [
      "Player 2 placed a marker at b1.\n",
      "   A   B   C   D   E\n",
      "1  1 | 2 | 0 | 0 | 0\n",
      "   -------------------\n",
      "2  0 | 0 | 0 | 0 | 0\n",
      "   -------------------\n",
      "3  0 | 0 | 0 | 0 | 0\n",
      "   -------------------\n",
      "4  0 | 0 | 0 | 0 | 0\n",
      "   -------------------\n",
      "5  0 | 0 | 0 | 0 | 0\n"
     ]
    },
    {
     "name": "stdin",
     "output_type": "stream",
     "text": [
      "Player 1, enter your move (e.g., A2):  a2\n"
     ]
    },
    {
     "name": "stdout",
     "output_type": "stream",
     "text": [
      "Player 1 placed a marker at a2.\n",
      "   A   B   C   D   E\n",
      "1  1 | 2 | 0 | 0 | 0\n",
      "   -------------------\n",
      "2  1 | 0 | 0 | 0 | 0\n",
      "   -------------------\n",
      "3  0 | 0 | 0 | 0 | 0\n",
      "   -------------------\n",
      "4  0 | 0 | 0 | 0 | 0\n",
      "   -------------------\n",
      "5  0 | 0 | 0 | 0 | 0\n"
     ]
    },
    {
     "name": "stdin",
     "output_type": "stream",
     "text": [
      "Player 2, enter your move (e.g., A2):  b2\n"
     ]
    },
    {
     "name": "stdout",
     "output_type": "stream",
     "text": [
      "Player 2 placed a marker at b2.\n",
      "   A   B   C   D   E\n",
      "1  1 | 2 | 0 | 0 | 0\n",
      "   -------------------\n",
      "2  1 | 2 | 0 | 0 | 0\n",
      "   -------------------\n",
      "3  0 | 0 | 0 | 0 | 0\n",
      "   -------------------\n",
      "4  0 | 0 | 0 | 0 | 0\n",
      "   -------------------\n",
      "5  0 | 0 | 0 | 0 | 0\n"
     ]
    },
    {
     "name": "stdin",
     "output_type": "stream",
     "text": [
      "Player 1, enter your move (e.g., A2):  a3\n"
     ]
    },
    {
     "name": "stdout",
     "output_type": "stream",
     "text": [
      "Player 1 placed a marker at a3.\n",
      "   A   B   C   D   E\n",
      "1  1 | 2 | 0 | 0 | 0\n",
      "   -------------------\n",
      "2  1 | 2 | 0 | 0 | 0\n",
      "   -------------------\n",
      "3  1 | 0 | 0 | 0 | 0\n",
      "   -------------------\n",
      "4  0 | 0 | 0 | 0 | 0\n",
      "   -------------------\n",
      "5  0 | 0 | 0 | 0 | 0\n"
     ]
    },
    {
     "name": "stdin",
     "output_type": "stream",
     "text": [
      "Player 2, enter your move (e.g., A2):  b3\n"
     ]
    },
    {
     "name": "stdout",
     "output_type": "stream",
     "text": [
      "Player 2 placed a marker at b3.\n",
      "   A   B   C   D   E\n",
      "1  1 | 2 | 0 | 0 | 0\n",
      "   -------------------\n",
      "2  1 | 2 | 0 | 0 | 0\n",
      "   -------------------\n",
      "3  1 | 2 | 0 | 0 | 0\n",
      "   -------------------\n",
      "4  0 | 0 | 0 | 0 | 0\n",
      "   -------------------\n",
      "5  0 | 0 | 0 | 0 | 0\n"
     ]
    },
    {
     "name": "stdin",
     "output_type": "stream",
     "text": [
      "Player 1, enter your move (e.g., A2):  a4\n"
     ]
    },
    {
     "name": "stdout",
     "output_type": "stream",
     "text": [
      "Player 1 placed a marker at a4.\n",
      "   A   B   C   D   E\n",
      "1  1 | 2 | 0 | 0 | 0\n",
      "   -------------------\n",
      "2  1 | 2 | 0 | 0 | 0\n",
      "   -------------------\n",
      "3  1 | 2 | 0 | 0 | 0\n",
      "   -------------------\n",
      "4  1 | 0 | 0 | 0 | 0\n",
      "   -------------------\n",
      "5  0 | 0 | 0 | 0 | 0\n"
     ]
    },
    {
     "name": "stdin",
     "output_type": "stream",
     "text": [
      "Player 2, enter your move (e.g., A2):  b4\n"
     ]
    },
    {
     "name": "stdout",
     "output_type": "stream",
     "text": [
      "Player 2 placed a marker at b4.\n",
      "   A   B   C   D   E\n",
      "1  1 | 2 | 0 | 0 | 0\n",
      "   -------------------\n",
      "2  1 | 2 | 0 | 0 | 0\n",
      "   -------------------\n",
      "3  1 | 2 | 0 | 0 | 0\n",
      "   -------------------\n",
      "4  1 | 2 | 0 | 0 | 0\n",
      "   -------------------\n",
      "5  0 | 0 | 0 | 0 | 0\n"
     ]
    },
    {
     "name": "stdin",
     "output_type": "stream",
     "text": [
      "Player 1, enter your move (e.g., A2):  a5\n"
     ]
    },
    {
     "name": "stdout",
     "output_type": "stream",
     "text": [
      "Player 1 placed a marker at a5.\n",
      "   A   B   C   D   E\n",
      "1  1 | 2 | 0 | 0 | 0\n",
      "   -------------------\n",
      "2  1 | 2 | 0 | 0 | 0\n",
      "   -------------------\n",
      "3  1 | 2 | 0 | 0 | 0\n",
      "   -------------------\n",
      "4  1 | 2 | 0 | 0 | 0\n",
      "   -------------------\n",
      "5  1 | 0 | 0 | 0 | 0\n",
      "Player 1 wins!\n"
     ]
    }
   ],
   "source": [
    "# Test your solution here\n",
    "player_1 = 1\n",
    "player_2 = 2\n",
    "empty = 0\n",
    "\n",
    "size = 5\n",
    "\n",
    "board=[[empty]*size for i in range(size)]\n",
    "\n",
    "n = 4\n",
    "m = 5\n",
    "draw_board(board)\n",
    "play_game(board)"
   ]
  },
  {
   "cell_type": "markdown",
   "metadata": {},
   "source": [
    "*Exercise 11:* (Advanced / Challenge) Develop a version of the game where one player is the computer. Note that you don't need to do an extensive seach for the best move. You can have the computer simply protect against loosing and otherwise try to win with straight or diagonal patterns."
   ]
  },
  {
   "cell_type": "code",
   "execution_count": null,
   "metadata": {
    "collapsed": true,
    "jupyter": {
     "outputs_hidden": true
    }
   },
   "outputs": [],
   "source": [
    "# Write you solution here"
   ]
  },
  {
   "cell_type": "code",
   "execution_count": null,
   "metadata": {
    "collapsed": true,
    "jupyter": {
     "outputs_hidden": true
    }
   },
   "outputs": [],
   "source": [
    "# Test your solution here"
   ]
  }
 ],
 "metadata": {
  "kernelspec": {
   "display_name": "Python 3 (ipykernel)",
   "language": "python",
   "name": "python3"
  },
  "language_info": {
   "codemirror_mode": {
    "name": "ipython",
    "version": 3
   },
   "file_extension": ".py",
   "mimetype": "text/x-python",
   "name": "python",
   "nbconvert_exporter": "python",
   "pygments_lexer": "ipython3",
   "version": "3.10.12"
  }
 },
 "nbformat": 4,
 "nbformat_minor": 4
}
