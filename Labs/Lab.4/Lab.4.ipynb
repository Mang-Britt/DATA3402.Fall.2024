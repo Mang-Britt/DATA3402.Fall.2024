{
 "cells": [
  {
   "cell_type": "markdown",
   "metadata": {},
   "source": [
    "# Lab 4- Object Oriented Programming\n",
    "\n",
    "For all of the exercises below, make sure you provide tests of your solutions.\n"
   ]
  },
  {
   "cell_type": "markdown",
   "metadata": {},
   "source": [
    "1. Write a \"counter\" class that can be incremented up to a specified maximum value, will print an error if an attempt is made to increment beyond that value, and allows reseting the counter. "
   ]
  },
  {
   "cell_type": "code",
   "execution_count": 1,
   "metadata": {},
   "outputs": [],
   "source": [
    "class Counter:\n",
    "    def __init__(self, maximum):\n",
    "        self.maximum = maximum\n",
    "        self.value = 0\n",
    "\n",
    "    def increment(self):\n",
    "        if self.value < self.maximum:\n",
    "            self.value += 1\n",
    "        else:\n",
    "            print(\"Error: Cannot increment beyond maximum value.\")\n",
    "\n",
    "    def reset(self):\n",
    "        self.value = 0\n",
    "\n",
    "    def get_value(self):\n",
    "        return self.value"
   ]
  },
  {
   "cell_type": "markdown",
   "metadata": {},
   "source": [
    "2. Copy and paste your solution to question 1 and modify it so that all the data held by the counter is private. Implement functions to check the value of the counter, check the maximum value, and check if the counter is at the maximum."
   ]
  },
  {
   "cell_type": "code",
   "execution_count": null,
   "metadata": {},
   "outputs": [],
   "source": [
    "class Counter:\n",
    "    def __init__(self, maximum):\n",
    "        self.__maximum = maximum\n",
    "        self.__value = 0\n",
    "\n",
    "    def increment(self):\n",
    "        if self.__value < self.__maximum:\n",
    "            self.__value += 1\n",
    "        else:\n",
    "            print(\"Error: Cannot increment beyond maximum value.\")\n",
    "\n",
    "    def reset(self):\n",
    "        self.__value = 0\n",
    "\n",
    "    def get_value(self):\n",
    "        return self.__value\n",
    "\n",
    "    def get_maximum(self):\n",
    "        return self.__maximum\n",
    "\n",
    "    def is_at_maximum(self):\n",
    "        return self.__value == self.__maximum"
   ]
  },
  {
   "cell_type": "markdown",
   "metadata": {},
   "source": [
    "3. Implement a class to represent a rectangle, holding the length, width, and $x$ and $y$ coordinates of a corner of the object. Implement functions that compute the area and perimeter of the rectangle. Make all data members private and privide accessors to retrieve values of data members. "
   ]
  },
  {
   "cell_type": "code",
   "execution_count": null,
   "metadata": {},
   "outputs": [],
   "source": [
    "class Rectangle:\n",
    "    def __init__(self, length, width, x, y):\n",
    "        self.__length = length\n",
    "        self.__width = width\n",
    "        self.__x = x\n",
    "        self.__y = y\n",
    "\n",
    "    def get_length(self):\n",
    "        return self.__length\n",
    "\n",
    "    def get_width(self):\n",
    "        return self.__width\n",
    "\n",
    "    def get_x(self):\n",
    "        return self.__x\n",
    "\n",
    "    def get_y(self):\n",
    "        return self.__y\n",
    "\n",
    "    def calculate_area(self):\n",
    "        return self.__length * self.__width\n",
    "\n",
    "    def calculate_perimeter(self):\n",
    "        return 2 * (self.__length + self.__width)"
   ]
  },
  {
   "cell_type": "markdown",
   "metadata": {},
   "source": [
    "4. Implement a class to represent a circle, holding the radius and $x$ and $y$ coordinates of center of the object. Implement functions that compute the area and perimeter of the rectangle. Make all data members private and privide accessors to retrieve values of data members. "
   ]
  },
  {
   "cell_type": "code",
   "execution_count": null,
   "metadata": {},
   "outputs": [],
   "source": [
    "import math\n",
    "\n",
    "class Circle:\n",
    "    def __init__(self, radius, x, y):\n",
    "        self.__radius = radius\n",
    "        self.__x = x\n",
    "        self.__y = y\n",
    "\n",
    "    def get_radius(self):\n",
    "        return self.__radius\n",
    "\n",
    "    def get_x(self):\n",
    "        return self.__x\n",
    "\n",
    "    def get_y(self):\n",
    "        return self.__y\n",
    "\n",
    "    def calculate_area(self):\n",
    "        return math.pi * self.__radius**2\n",
    "\n",
    "    def calculate_perimeter(self):\n",
    "        return 2 * math.pi * self.__radius"
   ]
  },
  {
   "cell_type": "markdown",
   "metadata": {},
   "source": [
    "5. Implement a common base class for the classes implemented in 3 and 4 above which implements all common methods as not implemented functions (virtual). Re-implement your regtangle and circule classes to inherit from the base class and overload the functions accordingly. "
   ]
  },
  {
   "cell_type": "code",
   "execution_count": 2,
   "metadata": {},
   "outputs": [],
   "source": [
    "import math\n",
    "\n",
    "class Shape:\n",
    "    def calculate_area(self):\n",
    "        raise NotImplementedError(\"calculate_area() is not implemented\")\n",
    "\n",
    "    def calculate_perimeter(self):\n",
    "        raise NotImplementedError(\"calculate_perimeter() is not implemented\")\n",
    "\n",
    "class Rectangle(Shape):\n",
    "    def __init__(self, length, width, x, y):\n",
    "        self.__length = length\n",
    "        self.__width = width\n",
    "        self.__x = x\n",
    "        self.__y = y\n",
    "\n",
    "    def calculate_area(self):\n",
    "        return self.__length * self.__width\n",
    "\n",
    "    def calculate_perimeter(self):\n",
    "        return 2 * (self.__length + self.__width)\n",
    "\n",
    "class Circle(Shape):\n",
    "    def __init__(self, radius, x, y):\n",
    "        self.__radius = radius\n",
    "        self.__x = x\n",
    "        self.__y = y\n",
    "\n",
    "    def calculate_area(self):\n",
    "        return math.pi * self.__radius**2\n",
    "\n",
    "    def calculate_perimeter(self):\n",
    "        return 2 * math.pi * self.__radius"
   ]
  },
  {
   "cell_type": "code",
   "execution_count": 3,
   "metadata": {},
   "outputs": [
    {
     "name": "stdout",
     "output_type": "stream",
     "text": [
      "15\n",
      "31.41592653589793\n"
     ]
    }
   ],
   "source": [
    "rect = Rectangle(5, 3, 2, 4)\n",
    "circle = Circle(5, 3, 4)\n",
    "\n",
    "print(rect.calculate_area())  # Output: 15\n",
    "print(circle.calculate_perimeter())  # Output: 31.41592653589793"
   ]
  },
  {
   "cell_type": "markdown",
   "metadata": {},
   "source": [
    "6. Implement a triangle class analogous to the rectangle and circle in question 5."
   ]
  },
  {
   "cell_type": "code",
   "execution_count": 5,
   "metadata": {},
   "outputs": [],
   "source": [
    "class Triangle(Shape):\n",
    "    def __init__(self, base, height, l1, l2 , l3, x, y):\n",
    "        self.__base = base\n",
    "        self.__height = height\n",
    "        self.__l1 = l1\n",
    "        self.__l2 = l2\n",
    "        self.__l3 = l3\n",
    "        self.__x = x\n",
    "        self.__y = y\n",
    "\n",
    "    def calculate_area(self):\n",
    "        return (self.__base * self.__height) / 2\n",
    "\n",
    "    def calculate_perimeter(self):\n",
    "        return self.__l1 + self.__l2 + self.__l3"
   ]
  },
  {
   "cell_type": "code",
   "execution_count": 6,
   "metadata": {},
   "outputs": [
    {
     "name": "stdout",
     "output_type": "stream",
     "text": [
      "6.0\n",
      "12\n"
     ]
    }
   ],
   "source": [
    "tri = Triangle(3, 4, 3, 4, 5, 6, 7)\n",
    "print(tri.calculate_area())\n",
    "print(tri.calculate_perimeter())"
   ]
  },
  {
   "cell_type": "markdown",
   "metadata": {},
   "source": [
    "7. Add a function to the object classes, including the base, that returns a list of up to 16 pairs of  $x$ and $y$ points on the parameter of the object. "
   ]
  },
  {
   "cell_type": "code",
   "execution_count": null,
   "metadata": {},
   "outputs": [],
   "source": [
    "import math\n",
    "\n",
    "class Shape:\n",
    "    def calculate_area(self):\n",
    "        raise NotImplementedError(\"calculate_area() is not implemented\")\n",
    "\n",
    "    def calculate_perimeter(self):\n",
    "        raise NotImplementedError(\"calculate_perimeter() is not implemented\")\n",
    "\n",
    "    def get_boundary_points(self):\n",
    "        raise NotImplementedError(\"get_boundary_points() is not implemented\")\n",
    "\n",
    "class Rectangle(Shape):\n",
    "    def __init__(self, length, width, x, y):\n",
    "        self.__length = length\n",
    "        self.__width = width\n",
    "        self.__x = x\n",
    "        self.__y = y\n",
    "\n",
    "    def calculate_area(self):\n",
    "        return self.__length * self.__width\n",
    "\n",
    "    def calculate_perimeter(self):\n",
    "        return 2 * (self.__length + self.__width)\n",
    "\n",
    "    def get_boundary_points(self):\n",
    "        points = []\n",
    "        for i in range(17):\n",
    "            x = self.__x + (i / 16) * self.__length\n",
    "            y = self.__y\n",
    "            points.append((x, y))\n",
    "        for i in range(1, 17):\n",
    "            x = self.__x + self.__length\n",
    "            y = self.__y + (i / 16) * self.__width\n",
    "            points.append((x, y))\n",
    "        for i in range(16, 0, -1):\n",
    "            x = self.__x + (i / 16) * self.__length\n",
    "            y = self.__y + self.__width\n",
    "            points.append((x, y))\n",
    "        for i in range(16, 0, -1):\n",
    "            x = self.__x\n",
    "            y = self.__y + (i / 16) * self.__width\n",
    "            points.append((x, y))\n",
    "        return points[:16]\n",
    "\n",
    "class Circle(Shape):\n",
    "    def __init__(self, radius, x, y):\n",
    "        self.__radius = radius\n",
    "        self.__x = x\n",
    "        self.__y = y\n",
    "\n",
    "    def calculate_area(self):\n",
    "        return math.pi * self.__radius**2\n",
    "\n",
    "    def calculate_perimeter(self):\n",
    "        return 2 * math.pi * self.__radius\n",
    "\n",
    "    def get_boundary_points(self):\n",
    "        points = []\n",
    "        for i in range(17):\n",
    "            angle = (i / 16) * 2 * math.pi\n",
    "            x = self.__x + self.__radius * math.cos(angle)\n",
    "            y = self.__y + self.__radius * math.sin(angle)\n",
    "            points.append((x, y))\n",
    "        return points[:16]\n",
    "\n",
    "class Triangle(Shape):\n",
    "    def __init__(self, base, height, l1, l2 , l3, x, y):\n",
    "        self.__base = base\n",
    "        self.__height = height\n",
    "        self.__l1 = l1\n",
    "        self.__l2 = l2\n",
    "        self.__l3 = l3\n",
    "        self.__x = x\n",
    "        self.__y = y\n",
    "\n",
    "    def calculate_area(self):\n",
    "        return (self.__base * self.__height) / 2\n",
    "\n",
    "    def calculate_perimeter(self):\n",
    "        return self.__l1 + self.__l2 + self.__l3\n",
    "\n",
    "    def get_boundary_points(self):\n",
    "        points = []\n",
    "        points.append((self.__x, self.__y))\n",
    "        points.append((self.__x + self.__base, self.__y))\n",
    "        points.append((self.__x + self.__base - (self.__height / self.__l2) * self.__l1, self.__y + self.__height))\n",
    "        return points"
   ]
  },
  {
   "cell_type": "markdown",
   "metadata": {},
   "source": [
    "8. Add a function to the object classes, including the base, that tests if a given set of $x$ and $y$ coordinates are inside of the object. You'll have to think through how to determine if a set of coordinates are inside an object for each object type."
   ]
  },
  {
   "cell_type": "code",
   "execution_count": null,
   "metadata": {},
   "outputs": [],
   "source": [
    "import math\n",
    "\n",
    "class Shape:\n",
    "    def calculate_area(self):\n",
    "        raise NotImplementedError(\"calculate_area() is not implemented\")\n",
    "\n",
    "    def calculate_perimeter(self):\n",
    "        raise NotImplementedError(\"calculate_perimeter() is not implemented\")\n",
    "\n",
    "    def get_boundary_points(self):\n",
    "        raise NotImplementedError(\"get_boundary_points() is not implemented\")\n",
    "\n",
    "    def contains_point(self, x, y):\n",
    "        raise NotImplementedError(\"contains_point() is not implemented\")\n",
    "\n",
    "class Rectangle(Shape):\n",
    "    def __init__(self, length, width, x, y):\n",
    "        self.__length = length\n",
    "        self.__width = width\n",
    "        self.__x = x\n",
    "        self.__y = y\n",
    "\n",
    "    def calculate_area(self):\n",
    "        return self.__length * self.__width\n",
    "\n",
    "    def calculate_perimeter(self):\n",
    "        return 2 * (self.__length + self.__width)\n",
    "\n",
    "    def get_boundary_points(self):\n",
    "        points = []\n",
    "        for i in range(17):\n",
    "            x = self.__x + (i / 16) * self.__length\n",
    "            y = self.__y\n",
    "            points.append((x, y))\n",
    "        for i in range(1, 17):\n",
    "            x = self.__x + self.__length\n",
    "            y = self.__y + (i / 16) * self.__width\n",
    "            points.append((x, y))\n",
    "        for i in range(16, 0, -1):\n",
    "            x = self.__x + (i / 16) * self.__length\n",
    "            y = self.__y + self.__width\n",
    "            points.append((x, y))\n",
    "        for i in range(16, 0, -1):\n",
    "            x = self.__x\n",
    "            y = self.__y + (i / 16) * self.__width\n",
    "            points.append((x, y))\n",
    "        return points[:16]\n",
    "\n",
    "    def contains_point(self, x, y):\n",
    "        distance = math.sqrt((x - self.__x)**2 + (y - self.__y)**2)\n",
    "        return distance <= self.__radius\n",
    "\n",
    "class Circle(Shape):\n",
    "    def __init__(self, radius, x, y):\n",
    "        self.__radius = radius\n",
    "        self.__x = x\n",
    "        self.__y = y\n",
    "\n",
    "    def calculate_area(self):\n",
    "        return math.pi * self.__radius**2\n",
    "\n",
    "    def calculate_perimeter(self):\n",
    "        return 2 * math.pi * self.__radius\n",
    "\n",
    "    def get_boundary_points(self):\n",
    "        points = []\n",
    "        for i in range(17):\n",
    "            angle = (i / 16) * 2 * math.pi\n",
    "            x = self.__x + self.__radius * math.cos(angle)\n",
    "            y = self.__y + self.__radius * math.sin(angle)\n",
    "            points.append((x, y))\n",
    "        return points[:16]\n",
    "\n",
    "    def contains_point(self, x, y):\n",
    "        distance = math.sqrt((x - self.__x)**2 + (y - self.__y)**2)\n",
    "        return distance <= self.__radius\n",
    "\n",
    "class Triangle(Shape):\n",
    "    def __init__(self, base, height, l1, l2 , l3, x, y):\n",
    "        self.__base = base\n",
    "        self.__height = height\n",
    "        self.__l1 = l1\n",
    "        self.__l2 = l2\n",
    "        self.__l3 = l3\n",
    "        self.__x = x\n",
    "        self.__y = y\n",
    "\n",
    "    def calculate_area(self):\n",
    "        return (self.__base * self.__height) / 2\n",
    "\n",
    "    def calculate_perimeter(self):\n",
    "        return self.__l1 + self.__l2 + self.__l3\n",
    "\n",
    "    def get_boundary_points(self):\n",
    "        points = []\n",
    "        points.append((self.__x, self.__y))\n",
    "        points.append((self.__x + self.__base, self.__y))\n",
    "        points.append((self.__x + self.__base - (self.__height / self.__l2) * self.__l1, self.__y + self.__height))\n",
    "        return points\n",
    "\n",
    "    def contains_point(self, x, y):\n",
    "        A = self.calculate_area()\n",
    "\n",
    "        A1 = area(self.__x, self.__y, x, y, self.__x + self.__base, self.__y)\n",
    "        A2 = area(self.__x + self.__base, self.__y, x, y, self.__x + self.__base - (self.__height / self.__l2) * self.__l1, self.__y + self.__height)\n",
    "        A3 = area(self.__x + self.__base - (self.__height / self.__l2) * self.__l1, self.__y + self.__height, x, y, self.__x, self.__y)\n",
    "\n",
    "        return A == A1 + A2 + A3"
   ]
  },
  {
   "cell_type": "markdown",
   "metadata": {},
   "source": [
    "9. Add a function in the base class of the object classes that returns true/false testing that the object overlaps with another object."
   ]
  },
  {
   "cell_type": "code",
   "execution_count": null,
   "metadata": {},
   "outputs": [],
   "source": []
  },
  {
   "cell_type": "markdown",
   "metadata": {},
   "source": [
    "10. Copy the `Canvas` class from lecture to in a python file creating a `paint` module. Copy your classes from above into the module and implement paint functions. Implement a `CompoundShape` class. Create a simple drawing demonstrating that all of your classes are working."
   ]
  },
  {
   "cell_type": "code",
   "execution_count": null,
   "metadata": {},
   "outputs": [],
   "source": [
    "class Canvas:\n",
    "    def __init__(self, width, height):\n",
    "        self.width = width\n",
    "        self.height = height\n",
    "        # Empty canvas is a matrix with element being the \"space\" character\n",
    "        self.data = [[' '] * width for i in range(height)]\n",
    "\n",
    "    def set_pixel(self, row, col, char='*'):\n",
    "        self.data[row][col] = char\n",
    "\n",
    "    def get_pixel(self, row, col):\n",
    "        return self.data[row][col]\n",
    "    \n",
    "    def clear_canvas(self):\n",
    "        self.data = [[' '] * self.width for i in range(self.height)]\n",
    "    \n",
    "    def v_line(self, x, y, w, **kargs):\n",
    "        for i in range(x,x+w):\n",
    "            self.set_pixel(i,y, **kargs)\n",
    "\n",
    "    def h_line(self, x, y, h, **kargs):\n",
    "        for i in range(y,y+h):\n",
    "            self.set_pixel(x,i, **kargs)\n",
    "            \n",
    "    def line(self, x1, y1, x2, y2, **kargs):\n",
    "        slope = (y2-y1) / (x2-x1)\n",
    "        for y in range(y1,y2):\n",
    "            x= int(slope * y)\n",
    "            self.set_pixel(x,y, **kargs)\n",
    "            \n",
    "    def display(self):\n",
    "        print(\"\\n\".join([\"\".join(row) for row in self.data]))"
   ]
  },
  {
   "cell_type": "markdown",
   "metadata": {},
   "source": [
    "11. Create a `RasterDrawing` class. Demonstrate that you can create a drawing made of several shapes, paint the drawing, modify the drawing, and paint it again. "
   ]
  },
  {
   "cell_type": "code",
   "execution_count": 7,
   "metadata": {},
   "outputs": [
    {
     "ename": "ModuleNotFoundError",
     "evalue": "No module named 'pygame'",
     "output_type": "error",
     "traceback": [
      "\u001b[0;31m---------------------------------------------------------------------------\u001b[0m",
      "\u001b[0;31mModuleNotFoundError\u001b[0m                       Traceback (most recent call last)",
      "Cell \u001b[0;32mIn[7], line 1\u001b[0m\n\u001b[0;32m----> 1\u001b[0m \u001b[38;5;28;01mimport\u001b[39;00m \u001b[38;5;21;01mpygame\u001b[39;00m\n\u001b[1;32m      3\u001b[0m \u001b[38;5;28;01mclass\u001b[39;00m \u001b[38;5;21;01mRasterDrawing\u001b[39;00m:\n\u001b[1;32m      4\u001b[0m     \u001b[38;5;28;01mdef\u001b[39;00m \u001b[38;5;21m__init__\u001b[39m(\u001b[38;5;28mself\u001b[39m, width, height):\n",
      "\u001b[0;31mModuleNotFoundError\u001b[0m: No module named 'pygame'"
     ]
    }
   ],
   "source": [
    "import pygame\n",
    "\n",
    "class RasterDrawing:\n",
    "    def __init__(self, width, height):\n",
    "        self.screen = pygame.display.set_mode((width, height))\n",
    "        self.shapes = []\n",
    "\n",
    "    def add_shape(self, shape):\n",
    "        self.shapes.append(shape)\n",
    "\n",
    "    def paint(self, background_color=(255, 255, 255)):\n",
    "        self.screen.fill(background_color)\n",
    "        for shape in self.shapes:\n",
    "            shape.draw(self.screen)\n",
    "        pygame.display.flip()\n",
    "\n",
    "    def modify_shape(self, index, new_shape):\n",
    "        self.shapes[index] = new_shape\n",
    "\n",
    "if __name__ == \"__main__\":\n",
    "    pygame.init()\n",
    "\n",
    "    drawing = RasterDrawing(800, 600)\n",
    "\n",
    "    rect = pygame.Rect(100, 100, 200, 200)\n",
    "    circle = pygame.draw.circle(drawing.screen, (0, 0, 255), (400, 300), 50)\n",
    "    ellipse = pygame.draw.ellipse(drawing.screen, (255, 0, 0), (500, 100, 100, 200))\n",
    "\n",
    "    drawing.add_shape(rect)\n",
    "    drawing.add_shape(circle)\n",
    "    drawing.add_shape(ellipse)\n",
    "\n",
    "    drawing.paint()\n",
    "\n",
    "    new_rect = pygame.Rect(200, 200, 100, 100)\n",
    "    drawing.modify_shape(0, new_rect)\n",
    "\n",
    "    drawing.paint()\n",
    "\n",
    "    pygame.quit()"
   ]
  },
  {
   "cell_type": "markdown",
   "metadata": {},
   "source": [
    "12. Implement the ability to load/save raster drawings and demonstate that your method works. One way to implement this ability:\n",
    "\n",
    "   * Overload `__repr__` functions of all objects to return strings of the python code that would construct the object.\n",
    "   \n",
    "   * In the save method of raster drawing class, store the representations into the file.\n",
    "   * Write a loader function that reads the file and uses `eval` to instantiate the object.\n",
    "\n",
    "For example:"
   ]
  },
  {
   "cell_type": "code",
   "execution_count": 1,
   "metadata": {},
   "outputs": [],
   "source": [
    "class foo:\n",
    "    def __init__(self,a,b=None):\n",
    "        self.a=a\n",
    "        self.b=b\n",
    "        \n",
    "    def __repr__(self):\n",
    "        return \"foo(\"+repr(self.a)+\",\"+repr(self.b)+\")\"\n",
    "    \n",
    "    def save(self,filename):\n",
    "        f=open(filename,\"w\")\n",
    "        f.write(self.__repr__())\n",
    "        f.close()\n",
    "        \n",
    "   \n",
    "def foo_loader(filename):\n",
    "    f=open(filename,\"r\")\n",
    "    tmp=eval(f.read())\n",
    "    f.close()\n",
    "    return tmp\n"
   ]
  },
  {
   "cell_type": "code",
   "execution_count": 2,
   "metadata": {},
   "outputs": [
    {
     "name": "stdout",
     "output_type": "stream",
     "text": [
      "foo(1,'hello')\n"
     ]
    }
   ],
   "source": [
    "# Test\n",
    "print(repr(foo(1,\"hello\")))"
   ]
  },
  {
   "cell_type": "code",
   "execution_count": 3,
   "metadata": {},
   "outputs": [],
   "source": [
    "# Create an object and save it\n",
    "ff=foo(1,\"hello\")\n",
    "ff.save(\"Test.foo\")"
   ]
  },
  {
   "cell_type": "code",
   "execution_count": 4,
   "metadata": {},
   "outputs": [
    {
     "name": "stdout",
     "output_type": "stream",
     "text": [
      "foo(1,'hello')"
     ]
    }
   ],
   "source": [
    "# Check contents of the saved file\n",
    "!cat Test.foo"
   ]
  },
  {
   "cell_type": "code",
   "execution_count": 5,
   "metadata": {},
   "outputs": [
    {
     "data": {
      "text/plain": [
       "foo(1,'hello')"
      ]
     },
     "execution_count": 5,
     "metadata": {},
     "output_type": "execute_result"
    }
   ],
   "source": [
    "# Load the object\n",
    "ff_reloaded=foo_loader(\"Test.foo\")\n",
    "ff_reloaded"
   ]
  },
  {
   "cell_type": "code",
   "execution_count": null,
   "metadata": {},
   "outputs": [],
   "source": []
  },
  {
   "cell_type": "code",
   "execution_count": null,
   "metadata": {},
   "outputs": [],
   "source": []
  }
 ],
 "metadata": {
  "kernelspec": {
   "display_name": "Python 3 (ipykernel)",
   "language": "python",
   "name": "python3"
  },
  "language_info": {
   "codemirror_mode": {
    "name": "ipython",
    "version": 3
   },
   "file_extension": ".py",
   "mimetype": "text/x-python",
   "name": "python",
   "nbconvert_exporter": "python",
   "pygments_lexer": "ipython3",
   "version": "3.10.12"
  }
 },
 "nbformat": 4,
 "nbformat_minor": 4
}
